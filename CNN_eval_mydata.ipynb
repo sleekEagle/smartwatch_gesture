{
 "cells": [
  {
   "cell_type": "code",
   "execution_count": 2,
   "metadata": {},
   "outputs": [],
   "source": [
    "import pandas as pd\n",
    "import numpy as np\n",
    "from random import randint\n",
    "import matplotlib.pyplot as plt\n",
    "import torch\n",
    "import torch.nn as nn\n",
    "\n",
    "# torch.cuda.is_available() checks and returns a Boolean True if a GPU is available, else it'll return False\n",
    "is_cuda = torch.cuda.is_available()\n",
    "# If we have a GPU available, we'll set our device to GPU. We'll use this device variable later in our code.\n",
    "if is_cuda:\n",
    "    device = torch.device(\"cuda\")\n",
    "else:\n",
    "    device = torch.device(\"cpu\")\n",
    "\n",
    "#load data from memory\n",
    "data=pd.read_pickle('/scratch/lnw8px/GAN/mydata.pkl')"
   ]
  },
  {
   "cell_type": "code",
   "execution_count": 3,
   "metadata": {},
   "outputs": [
    {
     "data": {
      "text/html": [
       "<div>\n",
       "<style scoped>\n",
       "    .dataframe tbody tr th:only-of-type {\n",
       "        vertical-align: middle;\n",
       "    }\n",
       "\n",
       "    .dataframe tbody tr th {\n",
       "        vertical-align: top;\n",
       "    }\n",
       "\n",
       "    .dataframe thead th {\n",
       "        text-align: right;\n",
       "    }\n",
       "</style>\n",
       "<table border=\"1\" class=\"dataframe\">\n",
       "  <thead>\n",
       "    <tr style=\"text-align: right;\">\n",
       "      <th></th>\n",
       "      <th>gesture</th>\n",
       "      <th>x</th>\n",
       "      <th>y</th>\n",
       "      <th>z</th>\n",
       "    </tr>\n",
       "  </thead>\n",
       "  <tbody>\n",
       "    <tr>\n",
       "      <th>0</th>\n",
       "      <td>1</td>\n",
       "      <td>[-6.981482, -6.86912452173913, -6.934154217391...</td>\n",
       "      <td>[1.7387842, 1.7656500521739131, 1.719415726086...</td>\n",
       "      <td>[7.6556797, 7.653805534782609, 7.6723408695652...</td>\n",
       "    </tr>\n",
       "    <tr>\n",
       "      <th>1</th>\n",
       "      <td>1</td>\n",
       "      <td>[-7.3263645, -7.1698902, -7.164701, -7.2293663...</td>\n",
       "      <td>[1.1735595, 1.2569860666666668, 1.094124766666...</td>\n",
       "      <td>[7.723938, 7.5858251, 7.535130666666666, 7.547...</td>\n",
       "    </tr>\n",
       "    <tr>\n",
       "      <th>2</th>\n",
       "      <td>1</td>\n",
       "      <td>[-7.204219, -6.959433458823529, -7.10024679411...</td>\n",
       "      <td>[1.4034815, 1.3367731705882353, 1.344733, 1.23...</td>\n",
       "      <td>[7.662865, 7.678221223529412, 7.61806400588235...</td>\n",
       "    </tr>\n",
       "    <tr>\n",
       "      <th>3</th>\n",
       "      <td>1</td>\n",
       "      <td>[-7.2832546, -7.261205917647059, -7.2083745882...</td>\n",
       "      <td>[1.2142749, 1.1385500629411764, 1.209132623529...</td>\n",
       "      <td>[7.597002, 7.3560911764705885, 7.3024145882352...</td>\n",
       "    </tr>\n",
       "    <tr>\n",
       "      <th>4</th>\n",
       "      <td>1</td>\n",
       "      <td>[-8.074808, -7.943681, -7.7766285, -7.65987134...</td>\n",
       "      <td>[1.6896863, 1.6208295, 1.8238074, 2.57584345, ...</td>\n",
       "      <td>[6.724017, 6.69288215, 6.6306114, 6.7090485, 7...</td>\n",
       "    </tr>\n",
       "  </tbody>\n",
       "</table>\n",
       "</div>"
      ],
      "text/plain": [
       "   gesture                                                  x  \\\n",
       "0        1  [-6.981482, -6.86912452173913, -6.934154217391...   \n",
       "1        1  [-7.3263645, -7.1698902, -7.164701, -7.2293663...   \n",
       "2        1  [-7.204219, -6.959433458823529, -7.10024679411...   \n",
       "3        1  [-7.2832546, -7.261205917647059, -7.2083745882...   \n",
       "4        1  [-8.074808, -7.943681, -7.7766285, -7.65987134...   \n",
       "\n",
       "                                                   y  \\\n",
       "0  [1.7387842, 1.7656500521739131, 1.719415726086...   \n",
       "1  [1.1735595, 1.2569860666666668, 1.094124766666...   \n",
       "2  [1.4034815, 1.3367731705882353, 1.344733, 1.23...   \n",
       "3  [1.2142749, 1.1385500629411764, 1.209132623529...   \n",
       "4  [1.6896863, 1.6208295, 1.8238074, 2.57584345, ...   \n",
       "\n",
       "                                                   z  \n",
       "0  [7.6556797, 7.653805534782609, 7.6723408695652...  \n",
       "1  [7.723938, 7.5858251, 7.535130666666666, 7.547...  \n",
       "2  [7.662865, 7.678221223529412, 7.61806400588235...  \n",
       "3  [7.597002, 7.3560911764705885, 7.3024145882352...  \n",
       "4  [6.724017, 6.69288215, 6.6306114, 6.7090485, 7...  "
      ]
     },
     "execution_count": 3,
     "metadata": {},
     "output_type": "execute_result"
    }
   ],
   "source": [
    "data.head()"
   ]
  },
  {
   "cell_type": "code",
   "execution_count": 4,
   "metadata": {},
   "outputs": [
    {
     "name": "stdout",
     "output_type": "stream",
     "text": [
      "-0.9769284200000035 -11.142999714285715\n",
      "8.90588 -10.572148333333335\n",
      "18.893112 -5.80462875\n"
     ]
    }
   ],
   "source": [
    "def get_max(array):\n",
    "    return np.max(array)\n",
    "def get_min(array):\n",
    "    return np.min(array)\n",
    "print(np.max(data['x'].apply(get_max).values),np.min(data['x'].apply(get_min).values))\n",
    "print(np.max(data['y'].apply(get_max).values),np.min(data['y'].apply(get_min).values))\n",
    "print(np.max(data['z'].apply(get_max).values),np.min(data['z'].apply(get_min).values))"
   ]
  },
  {
   "cell_type": "code",
   "execution_count": 5,
   "metadata": {},
   "outputs": [
    {
     "data": {
      "text/plain": [
       "'\\nnormalize data\\nbased on max and min values found on the dataprep section\\n'"
      ]
     },
     "execution_count": 5,
     "metadata": {},
     "output_type": "execute_result"
    }
   ],
   "source": [
    "'''\n",
    "normalize data\n",
    "based on max and min values found on the dataprep section\n",
    "'''"
   ]
  },
  {
   "cell_type": "code",
   "execution_count": 6,
   "metadata": {},
   "outputs": [],
   "source": [
    "def get_norm_data(array,val):\n",
    "    return list(np.array(array)/val)\n",
    "\n",
    "data['x_norm']=data['x'].apply(get_norm_data,args=[12])\n",
    "data['y_norm']=data['y'].apply(get_norm_data,args=[11])\n",
    "data['z_norm']=data['z'].apply(get_norm_data,args=[19])"
   ]
  },
  {
   "cell_type": "code",
   "execution_count": 7,
   "metadata": {},
   "outputs": [
    {
     "data": {
      "text/plain": [
       "'\\ncreate onehot labels\\n'"
      ]
     },
     "execution_count": 7,
     "metadata": {},
     "output_type": "execute_result"
    }
   ],
   "source": [
    "'''\n",
    "create onehot labels\n",
    "'''"
   ]
  },
  {
   "cell_type": "code",
   "execution_count": 8,
   "metadata": {},
   "outputs": [],
   "source": [
    "num_classes=20\n",
    "def to_onehot(num):\n",
    "    onehot = np.zeros(num_classes,dtype=int)\n",
    "    onehot[num-1] = 1\n",
    "    return onehot\n",
    "\n",
    "data['label']=data['gesture'].apply(to_onehot)"
   ]
  },
  {
   "cell_type": "code",
   "execution_count": 9,
   "metadata": {},
   "outputs": [
    {
     "data": {
      "text/plain": [
       "'\\ncrop data\\n'"
      ]
     },
     "execution_count": 9,
     "metadata": {},
     "output_type": "execute_result"
    }
   ],
   "source": [
    "'''\n",
    "crop data\n",
    "'''"
   ]
  },
  {
   "cell_type": "code",
   "execution_count": 10,
   "metadata": {},
   "outputs": [],
   "source": [
    "def crop_array(array):\n",
    "    #crop_len/10 is the length in seconds\n",
    "    crop_len=30\n",
    "    #pad array if its shorter than crop_len\n",
    "    if(len(array)<crop_len):\n",
    "        a=np.pad(array,pad_width=[0,(crop_len-len(array))],mode='edge')\n",
    "    else:\n",
    "        max_start=len(array)-crop_len\n",
    "        start=randint(0,max_start)\n",
    "        a=array[start:start+crop_len]\n",
    "    return a \n",
    "\n",
    "crop_x=data['x_norm'].apply(crop_array)\n",
    "crop_y=data['y_norm'].apply(crop_array)\n",
    "crop_z=data['z_norm'].apply(crop_array)\n",
    "\n",
    "data['crop_x']=crop_x\n",
    "data['crop_y']=crop_y\n",
    "data['crop_z']=crop_z"
   ]
  },
  {
   "cell_type": "code",
   "execution_count": 11,
   "metadata": {},
   "outputs": [
    {
     "data": {
      "text/plain": [
       "'\\nselect only the required columns\\n'"
      ]
     },
     "execution_count": 11,
     "metadata": {},
     "output_type": "execute_result"
    }
   ],
   "source": [
    "'''\n",
    "select only the required columns\n",
    "'''"
   ]
  },
  {
   "cell_type": "code",
   "execution_count": 12,
   "metadata": {},
   "outputs": [
    {
     "data": {
      "text/html": [
       "<div>\n",
       "<style scoped>\n",
       "    .dataframe tbody tr th:only-of-type {\n",
       "        vertical-align: middle;\n",
       "    }\n",
       "\n",
       "    .dataframe tbody tr th {\n",
       "        vertical-align: top;\n",
       "    }\n",
       "\n",
       "    .dataframe thead th {\n",
       "        text-align: right;\n",
       "    }\n",
       "</style>\n",
       "<table border=\"1\" class=\"dataframe\">\n",
       "  <thead>\n",
       "    <tr style=\"text-align: right;\">\n",
       "      <th></th>\n",
       "      <th>gesture</th>\n",
       "      <th>label</th>\n",
       "      <th>crop_x</th>\n",
       "      <th>crop_y</th>\n",
       "      <th>crop_z</th>\n",
       "    </tr>\n",
       "  </thead>\n",
       "  <tbody>\n",
       "    <tr>\n",
       "      <th>0</th>\n",
       "      <td>1</td>\n",
       "      <td>[1, 0, 0, 0, 0, 0, 0, 0, 0, 0, 0, 0, 0, 0, 0, ...</td>\n",
       "      <td>[-0.5817901666666666, -0.5724270434782609, -0....</td>\n",
       "      <td>[0.15807129090909092, 0.16051364110671937, 0.1...</td>\n",
       "      <td>[0.4029305105263158, 0.40283187025171624, 0.40...</td>\n",
       "    </tr>\n",
       "    <tr>\n",
       "      <th>1</th>\n",
       "      <td>1</td>\n",
       "      <td>[1, 0, 0, 0, 0, 0, 0, 0, 0, 0, 0, 0, 0, 0, 0, ...</td>\n",
       "      <td>[-0.6105303750000001, -0.59749085, -0.59705841...</td>\n",
       "      <td>[0.10668722727272728, 0.11427146060606062, 0.0...</td>\n",
       "      <td>[0.40652305263157895, 0.399253952631579, 0.396...</td>\n",
       "    </tr>\n",
       "    <tr>\n",
       "      <th>2</th>\n",
       "      <td>1</td>\n",
       "      <td>[1, 0, 0, 0, 0, 0, 0, 0, 0, 0, 0, 0, 0, 0, 0, ...</td>\n",
       "      <td>[-0.6003515833333334, -0.5799527882352941, -0....</td>\n",
       "      <td>[0.12758922727272728, 0.12152483368983957, 0.1...</td>\n",
       "      <td>[0.4033086842105263, 0.40411690650154797, 0.40...</td>\n",
       "    </tr>\n",
       "    <tr>\n",
       "      <th>3</th>\n",
       "      <td>1</td>\n",
       "      <td>[1, 0, 0, 0, 0, 0, 0, 0, 0, 0, 0, 0, 0, 0, 0, ...</td>\n",
       "      <td>[-0.6069378833333333, -0.6051004931372549, -0....</td>\n",
       "      <td>[0.11038862727272726, 0.10350455117647059, 0.1...</td>\n",
       "      <td>[0.3998422105263158, 0.387162693498452, 0.3843...</td>\n",
       "    </tr>\n",
       "    <tr>\n",
       "      <th>4</th>\n",
       "      <td>1</td>\n",
       "      <td>[1, 0, 0, 0, 0, 0, 0, 0, 0, 0, 0, 0, 0, 0, 0, ...</td>\n",
       "      <td>[-0.6729006666666667, -0.6619734166666666, -0....</td>\n",
       "      <td>[0.15360784545454545, 0.14734813636363636, 0.1...</td>\n",
       "      <td>[0.3538956315789474, 0.35225695526315787, 0.34...</td>\n",
       "    </tr>\n",
       "  </tbody>\n",
       "</table>\n",
       "</div>"
      ],
      "text/plain": [
       "   gesture                                              label  \\\n",
       "0        1  [1, 0, 0, 0, 0, 0, 0, 0, 0, 0, 0, 0, 0, 0, 0, ...   \n",
       "1        1  [1, 0, 0, 0, 0, 0, 0, 0, 0, 0, 0, 0, 0, 0, 0, ...   \n",
       "2        1  [1, 0, 0, 0, 0, 0, 0, 0, 0, 0, 0, 0, 0, 0, 0, ...   \n",
       "3        1  [1, 0, 0, 0, 0, 0, 0, 0, 0, 0, 0, 0, 0, 0, 0, ...   \n",
       "4        1  [1, 0, 0, 0, 0, 0, 0, 0, 0, 0, 0, 0, 0, 0, 0, ...   \n",
       "\n",
       "                                              crop_x  \\\n",
       "0  [-0.5817901666666666, -0.5724270434782609, -0....   \n",
       "1  [-0.6105303750000001, -0.59749085, -0.59705841...   \n",
       "2  [-0.6003515833333334, -0.5799527882352941, -0....   \n",
       "3  [-0.6069378833333333, -0.6051004931372549, -0....   \n",
       "4  [-0.6729006666666667, -0.6619734166666666, -0....   \n",
       "\n",
       "                                              crop_y  \\\n",
       "0  [0.15807129090909092, 0.16051364110671937, 0.1...   \n",
       "1  [0.10668722727272728, 0.11427146060606062, 0.0...   \n",
       "2  [0.12758922727272728, 0.12152483368983957, 0.1...   \n",
       "3  [0.11038862727272726, 0.10350455117647059, 0.1...   \n",
       "4  [0.15360784545454545, 0.14734813636363636, 0.1...   \n",
       "\n",
       "                                              crop_z  \n",
       "0  [0.4029305105263158, 0.40283187025171624, 0.40...  \n",
       "1  [0.40652305263157895, 0.399253952631579, 0.396...  \n",
       "2  [0.4033086842105263, 0.40411690650154797, 0.40...  \n",
       "3  [0.3998422105263158, 0.387162693498452, 0.3843...  \n",
       "4  [0.3538956315789474, 0.35225695526315787, 0.34...  "
      ]
     },
     "execution_count": 12,
     "metadata": {},
     "output_type": "execute_result"
    }
   ],
   "source": [
    "data=data.drop(columns=['x','y','z','x_norm','y_norm','z_norm'])\n",
    "data.head()"
   ]
  },
  {
   "cell_type": "code",
   "execution_count": 13,
   "metadata": {},
   "outputs": [
    {
     "name": "stdout",
     "output_type": "stream",
     "text": [
      "-0.08141070166666696 -0.9285833095238095\n",
      "0.8096254545454545 -0.9611043939393941\n",
      "0.9943743157894737 -0.3055067763157895\n"
     ]
    }
   ],
   "source": [
    "def get_max(array):\n",
    "    return np.max(array)\n",
    "def get_min(array):\n",
    "    return np.min(array)\n",
    "print(np.max(data['crop_x'].apply(get_max).values),np.min(data['crop_x'].apply(get_min).values))\n",
    "print(np.max(data['crop_y'].apply(get_max).values),np.min(data['crop_y'].apply(get_min).values))\n",
    "print(np.max(data['crop_z'].apply(get_max).values),np.min(data['crop_z'].apply(get_min).values))"
   ]
  },
  {
   "cell_type": "code",
   "execution_count": 14,
   "metadata": {},
   "outputs": [
    {
     "data": {
      "text/plain": [
       "'\\nseperate train and test data.\\none user is test. All others is train\\n'"
      ]
     },
     "execution_count": 14,
     "metadata": {},
     "output_type": "execute_result"
    }
   ],
   "source": [
    "'''\n",
    "seperate train and test data.\n",
    "one user is test. All others is train\n",
    "'''"
   ]
  },
  {
   "cell_type": "code",
   "execution_count": 15,
   "metadata": {},
   "outputs": [],
   "source": [
    "def scale(row):\n",
    "    scaled=(row-np.min(row))/(np.max(row)-np.min(row))\n",
    "    return scaled\n",
    "\n",
    "def get_batch(data,batch_size):\n",
    "    feature_list=[]\n",
    "    label_list=[]\n",
    "    batch=data.sample(n=batch_size)\n",
    "    for i in range(len(batch)):\n",
    "        features=[]\n",
    "        features.append(batch.iloc[i]['crop_x'])\n",
    "        features.append(batch.iloc[i]['crop_y'])\n",
    "        features.append(batch.iloc[i]['crop_z'])\n",
    "        features=np.array(features)\n",
    "        feature_list.append(features)\n",
    "        label_list.append(batch.iloc[i]['gesture']-1)\n",
    "    features=np.array(feature_list)\n",
    "    features=torch.from_numpy(features)\n",
    "    features=features.to(device)\n",
    "    features=features.float()\n",
    "    labels=np.array(label_list)\n",
    "    labels=torch.from_numpy(labels)\n",
    "    labels=labels.to(device)\n",
    "    labels=labels.long()\n",
    "    return features,labels\n",
    "\n",
    "def get_generated_batch(batch_size):\n",
    "    noise = torch.randn(batch_size,100).to(device)\n",
    "    labels = torch.randint(0, 20, (batch_size,)).to(device)\n",
    "    generated=generator(noise,labels)\n",
    "    \n",
    "    return generated,labels\n",
    "\n",
    "def get_comb_batch(data,real_bs,gen_bs):\n",
    "    real_features,real_labels=get_batch(data=data,batch_size=real_bs)\n",
    "    gen_features,gen_labels=get_generated_batch(gen_bs)\n",
    "    features=torch.cat([real_features,gen_features],0)\n",
    "    ar=features.detach().cpu().numpy()\n",
    "    labels=torch.cat([real_labels,gen_labels],0)\n",
    "    return features,labels"
   ]
  },
  {
   "cell_type": "code",
   "execution_count": null,
   "metadata": {},
   "outputs": [],
   "source": [
    "features,labels=get_comb_batch(data,10,12)"
   ]
  },
  {
   "cell_type": "code",
   "execution_count": 18,
   "metadata": {},
   "outputs": [
    {
     "data": {
      "text/plain": [
       "torch.Size([22, 3, 30])"
      ]
     },
     "execution_count": 18,
     "metadata": {},
     "output_type": "execute_result"
    }
   ],
   "source": [
    "features.shape"
   ]
  },
  {
   "cell_type": "code",
   "execution_count": 13,
   "metadata": {},
   "outputs": [
    {
     "data": {
      "text/plain": [
       "'\\nDefine the CNN\\n'"
      ]
     },
     "execution_count": 13,
     "metadata": {},
     "output_type": "execute_result"
    }
   ],
   "source": [
    "'''\n",
    "Define the CNN\n",
    "'''"
   ]
  },
  {
   "cell_type": "code",
   "execution_count": 18,
   "metadata": {},
   "outputs": [],
   "source": [
    "def get_model(num_filters1,num_filters2): \n",
    "    \n",
    "    features,labels=get_batch(data,batch_size=10)\n",
    "    conv1 = (nn.Conv1d(in_channels=3, out_channels=num_filters1, kernel_size=2, stride=1).float()).to(device)\n",
    "    pool1 = (nn.MaxPool1d(kernel_size=2).float()).to(device)\n",
    "    \n",
    "    conv2 = (nn.Conv1d(in_channels=num_filters1, out_channels=num_filters2, kernel_size=2, stride=1).float()).to(device)\n",
    "    pool2 = (nn.MaxPool1d(kernel_size=2).float()).to(device)\n",
    "\n",
    "\n",
    "    output = conv1(features)\n",
    "    output=pool1(output)\n",
    "    output = conv2(output)\n",
    "    output=pool2(output)\n",
    "    linear_in_features=output.shape[1]*output.shape[2]\n",
    "    print(linear_in_features)\n",
    "\n",
    "    class Net(nn.Module):\n",
    "        def __init__(self):\n",
    "            super(Net, self).__init__()\n",
    "            self.conv1 = nn.Conv1d(in_channels=3, out_channels=num_filters1, kernel_size=2, stride=1)\n",
    "            self.pool = nn.MaxPool1d(kernel_size=2)\n",
    "            self.bn1 = nn.BatchNorm1d(100)\n",
    "            self.conv2 = nn.Conv1d(in_channels=num_filters1, out_channels=num_filters2, kernel_size=2, stride=1)\n",
    "            self.bn2 = nn.BatchNorm1d(48)\n",
    "            self.fc1 = nn.Linear(in_features=linear_in_features,out_features=20)\n",
    "            self.softmax = nn.Softmax(dim=1)\n",
    "            self.relu = nn.ReLU()\n",
    "            self.drop = nn.Dropout(0.5)\n",
    "\n",
    "        def forward(self, x):\n",
    "            x = self.conv1(x)\n",
    "            x = self.relu(x)\n",
    "            x = self.pool(x)\n",
    "            x = self.bn1(x)\n",
    "            x = self.conv2(x)\n",
    "            x = self.relu(x)\n",
    "            x = self.pool(x)\n",
    "            x = self.bn2(x)\n",
    "            x = self.drop(x)\n",
    "            x = x.view(-1,linear_in_features)\n",
    "            x = self.fc1(x)\n",
    "            #x = self.softmax(x)\n",
    "            return x\n",
    "    model=Net()\n",
    "    model.to(device)\n",
    "    return model\n",
    "   "
   ]
  },
  {
   "cell_type": "code",
   "execution_count": 132,
   "metadata": {},
   "outputs": [
    {
     "name": "stdout",
     "output_type": "stream",
     "text": [
      "288\n"
     ]
    },
    {
     "data": {
      "text/plain": [
       "<All keys matched successfully>"
      ]
     },
     "execution_count": 132,
     "metadata": {},
     "output_type": "execute_result"
    }
   ],
   "source": [
    "model=get_model(num_filters1=100,num_filters2=48)\n",
    "model.load_state_dict(torch.load('/scratch/lnw8px/GAN/models/CNN_noGAN.pt'))"
   ]
  },
  {
   "cell_type": "code",
   "execution_count": 117,
   "metadata": {},
   "outputs": [
    {
     "data": {
      "text/plain": [
       "(0.63175, 0.024076700355322802)"
      ]
     },
     "execution_count": 117,
     "metadata": {},
     "output_type": "execute_result"
    }
   ],
   "source": [
    "#model.eval()\n",
    "'''\n",
    "for CNN_noGAN this gave 0.59515 and std of 0.024\n",
    "for CNN this gave 0.63175 and std of 0.024\n",
    "'''\n",
    "acc_list=[]\n",
    "for i in range(0,100):\n",
    "    acc=get_test_acc_loss()\n",
    "    acc_list.append(acc)\n",
    "np.mean(np.array(acc_list)),np.std(np.array(acc_list))"
   ]
  },
  {
   "cell_type": "code",
   "execution_count": 88,
   "metadata": {},
   "outputs": [],
   "source": [
    "def get_test_acc_loss():\n",
    "    features,labels=get_batch(data,batch_size=len(data))\n",
    "    pred=model(features)\n",
    "    predmax=torch.max(pred,1)[1]\n",
    "    iscorrect=(predmax==labels)\n",
    "    num_correct=torch.sum(iscorrect).item()\n",
    "    num_total=iscorrect.shape[0]\n",
    "    acc=num_correct/num_total\n",
    "    return acc"
   ]
  },
  {
   "cell_type": "code",
   "execution_count": 106,
   "metadata": {},
   "outputs": [
    {
     "data": {
      "text/plain": [
       "0.58"
      ]
     },
     "execution_count": 106,
     "metadata": {},
     "output_type": "execute_result"
    }
   ],
   "source": [
    "get_test_acc_loss()"
   ]
  },
  {
   "cell_type": "code",
   "execution_count": 118,
   "metadata": {},
   "outputs": [],
   "source": [
    "def get_per_class_acc(test_data):\n",
    "    features,labels=get_batch(test_data,batch_size=len(test_data))\n",
    "    pred=model(features)\n",
    "    predmax=torch.max(pred,1)[1]\n",
    "    iscorrect=(predmax==labels)\n",
    "    iscorrect=iscorrect.cpu().numpy()\n",
    "    predmax=predmax.cpu().numpy()\n",
    "    ones=np.ones(len(iscorrect))\n",
    "    res=np.bincount(predmax,iscorrect)\n",
    "    counts=np.bincount(predmax,ones)\n",
    "    perclass_acc=res/counts\n",
    "    return perclass_acc"
   ]
  },
  {
   "cell_type": "code",
   "execution_count": 136,
   "metadata": {},
   "outputs": [
    {
     "data": {
      "text/plain": [
       "array([0.84976107, 0.79464646, 0.56018093, 0.55      , 0.69961566,\n",
       "       0.49438312, 0.32331811, 0.5128268 , 0.68390776, 0.83876263,\n",
       "       0.7940873 , 0.22178571, 0.95277778, 0.77925685, 0.        ,\n",
       "       0.06100289, 0.59376751, 0.55987374, 0.70896825, 0.89222222])"
      ]
     },
     "execution_count": 136,
     "metadata": {},
     "output_type": "execute_result"
    }
   ],
   "source": [
    "'''\n",
    "for CNN model :\n",
    "array([0.86738095, 0.61834776, 0.58060924, 0.87063492, 0.56460905,\n",
    "       0.65929293, 0.54892143, 0.45047425, 0.86713953, 0.6697619 ,\n",
    "       0.84944444, 0.39105339, 0.89689394, 0.53751885, 0.295     ,\n",
    "       0.0425    , 0.75385448, 0.6522409 , 0.69869048, 0.7228022 ])\n",
    "\n",
    "for CNN_noGAN :\n",
    "array([0.84976107, 0.79464646, 0.56018093, 0.55      , 0.69961566,\n",
    "       0.49438312, 0.32331811, 0.5128268 , 0.68390776, 0.83876263,\n",
    "       0.7940873 , 0.22178571, 0.95277778, 0.77925685, 0.        ,\n",
    "       0.06100289, 0.59376751, 0.55987374, 0.70896825, 0.89222222])\n",
    "'''\n",
    "\n",
    "acc=get_per_class_acc(data)\n",
    "for i in range(9):\n",
    "    acc+=get_per_class_acc(data)\n",
    "acc=acc/10\n",
    "acc"
   ]
  }
 ],
 "metadata": {
  "kernelspec": {
   "display_name": "PyTorch 1.5.1 Py3.7",
   "language": "python",
   "name": "pytorch-1.5.1"
  },
  "language_info": {
   "codemirror_mode": {
    "name": "ipython",
    "version": 3
   },
   "file_extension": ".py",
   "mimetype": "text/x-python",
   "name": "python",
   "nbconvert_exporter": "python",
   "pygments_lexer": "ipython3",
   "version": "3.7.7"
  }
 },
 "nbformat": 4,
 "nbformat_minor": 4
}
