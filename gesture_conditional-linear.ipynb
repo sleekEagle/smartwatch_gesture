{
 "cells": [
  {
   "cell_type": "code",
   "execution_count": 29,
   "metadata": {},
   "outputs": [],
   "source": [
    "import pandas as pd\n",
    "import numpy as np\n",
    "from random import randint\n",
    "import matplotlib.pyplot as plt\n",
    "import torch\n",
    "import torch.nn as nn\n",
    "from torchvision import transforms, datasets\n",
    "from torch import optim as optim\n",
    "\n",
    "# torch.cuda.is_available() checks and returns a Boolean True if a GPU is available, else it'll return False\n",
    "is_cuda = torch.cuda.is_available()\n",
    "# If we have a GPU available, we'll set our device to GPU. We'll use this device variable later in our code.\n",
    "if is_cuda:\n",
    "    device = torch.device(\"cuda\")\n",
    "else:\n",
    "    device = torch.device(\"cpu\")\n",
    "\n",
    "#load data from memory\n",
    "data=pd.read_pickle('/scratch/lnw8px/GAN/data.pkl')"
   ]
  },
  {
   "cell_type": "code",
   "execution_count": 2,
   "metadata": {},
   "outputs": [
    {
     "data": {
      "text/plain": [
       "'\\nnormalize data\\nbased on max and min values found on the dataprep section\\n'"
      ]
     },
     "execution_count": 2,
     "metadata": {},
     "output_type": "execute_result"
    }
   ],
   "source": [
    "'''\n",
    "normalize data\n",
    "based on max and min values found on the dataprep section\n",
    "'''"
   ]
  },
  {
   "cell_type": "code",
   "execution_count": 30,
   "metadata": {},
   "outputs": [],
   "source": [
    "def get_norm_data(array,val):\n",
    "    return list(np.array(array)/val)\n",
    "\n",
    "data['x_norm']=data['x'].apply(get_norm_data,args=[40])\n",
    "data['y_norm']=data['y'].apply(get_norm_data,args=[80])\n",
    "data['z_norm']=data['z'].apply(get_norm_data,args=[80])"
   ]
  },
  {
   "cell_type": "code",
   "execution_count": 31,
   "metadata": {},
   "outputs": [
    {
     "data": {
      "text/plain": [
       "'\\ncreate onehot labels\\n'"
      ]
     },
     "execution_count": 31,
     "metadata": {},
     "output_type": "execute_result"
    }
   ],
   "source": [
    "'''\n",
    "create onehot labels\n",
    "'''"
   ]
  },
  {
   "cell_type": "code",
   "execution_count": 32,
   "metadata": {},
   "outputs": [],
   "source": [
    "num_classes=20\n",
    "def to_onehot(num):\n",
    "    onehot = np.zeros(num_classes,dtype=int)\n",
    "    onehot[num-1] = 1\n",
    "    return onehot\n",
    "\n",
    "data['label']=data['gesture'].apply(to_onehot)"
   ]
  },
  {
   "cell_type": "code",
   "execution_count": 33,
   "metadata": {},
   "outputs": [
    {
     "data": {
      "text/plain": [
       "'\\ncrop data\\n'"
      ]
     },
     "execution_count": 33,
     "metadata": {},
     "output_type": "execute_result"
    }
   ],
   "source": [
    "'''\n",
    "crop data\n",
    "'''"
   ]
  },
  {
   "cell_type": "code",
   "execution_count": 34,
   "metadata": {},
   "outputs": [],
   "source": [
    "def crop_array(array):\n",
    "    #crop_len/10 is the length in seconds\n",
    "    crop_len=30\n",
    "    #pad array if its shorter than crop_len\n",
    "    if(len(array)<crop_len):\n",
    "        a=np.pad(array,pad_width=[0,(crop_len-len(array))],mode='edge')\n",
    "    else:\n",
    "        max_start=len(array)-crop_len\n",
    "        start=randint(0,max_start)\n",
    "        a=array[start:start+crop_len]\n",
    "    return a \n",
    "\n",
    "crop_x=data['x_norm'].apply(crop_array)\n",
    "crop_y=data['y_norm'].apply(crop_array)\n",
    "crop_z=data['z_norm'].apply(crop_array)\n",
    "\n",
    "data['crop_x']=crop_x\n",
    "data['crop_y']=crop_y\n",
    "data['crop_z']=crop_z"
   ]
  },
  {
   "cell_type": "code",
   "execution_count": 35,
   "metadata": {},
   "outputs": [
    {
     "data": {
      "text/plain": [
       "'\\nselect only the required columns\\n'"
      ]
     },
     "execution_count": 35,
     "metadata": {},
     "output_type": "execute_result"
    }
   ],
   "source": [
    "'''\n",
    "select only the required columns\n",
    "'''"
   ]
  },
  {
   "cell_type": "code",
   "execution_count": 36,
   "metadata": {},
   "outputs": [
    {
     "data": {
      "text/html": [
       "<div>\n",
       "<style scoped>\n",
       "    .dataframe tbody tr th:only-of-type {\n",
       "        vertical-align: middle;\n",
       "    }\n",
       "\n",
       "    .dataframe tbody tr th {\n",
       "        vertical-align: top;\n",
       "    }\n",
       "\n",
       "    .dataframe thead th {\n",
       "        text-align: right;\n",
       "    }\n",
       "</style>\n",
       "<table border=\"1\" class=\"dataframe\">\n",
       "  <thead>\n",
       "    <tr style=\"text-align: right;\">\n",
       "      <th></th>\n",
       "      <th>user</th>\n",
       "      <th>gesture</th>\n",
       "      <th>crop_x</th>\n",
       "      <th>crop_y</th>\n",
       "      <th>crop_z</th>\n",
       "      <th>label</th>\n",
       "    </tr>\n",
       "  </thead>\n",
       "  <tbody>\n",
       "    <tr>\n",
       "      <th>0</th>\n",
       "      <td>U07</td>\n",
       "      <td>16</td>\n",
       "      <td>[0.214520475, 0.214520475, 0.22218192499999997...</td>\n",
       "      <td>[0.0497994, 0.0478840375, 0.044053312500000004...</td>\n",
       "      <td>[0.040222587500000004, 0.040222587500000004, 0...</td>\n",
       "      <td>[0, 0, 0, 0, 0, 0, 0, 0, 0, 0, 0, 0, 0, 0, 0, ...</td>\n",
       "    </tr>\n",
       "    <tr>\n",
       "      <th>1</th>\n",
       "      <td>U07</td>\n",
       "      <td>16</td>\n",
       "      <td>[0.22984334999999997, 0.226012625, 0.226012625...</td>\n",
       "      <td>[0.01723825, 0.015322887499999998, 0.015322887...</td>\n",
       "      <td>[0.0478840375, 0.0497994, 0.0727837375, 0.1589...</td>\n",
       "      <td>[0, 0, 0, 0, 0, 0, 0, 0, 0, 0, 0, 0, 0, 0, 0, ...</td>\n",
       "    </tr>\n",
       "    <tr>\n",
       "      <th>2</th>\n",
       "      <td>U07</td>\n",
       "      <td>16</td>\n",
       "      <td>[0.20685905, 0.2030283, 0.226012625, 0.2758120...</td>\n",
       "      <td>[0.055545475, 0.053630124999999994, 0.06512228...</td>\n",
       "      <td>[0.0344765, 0.028730424999999997, 0.0689530125...</td>\n",
       "      <td>[0, 0, 0, 0, 0, 0, 0, 0, 0, 0, 0, 0, 0, 0, 0, ...</td>\n",
       "    </tr>\n",
       "    <tr>\n",
       "      <th>3</th>\n",
       "      <td>U07</td>\n",
       "      <td>16</td>\n",
       "      <td>[0.2030283, 0.21068975, 0.19153615, 0.24516624...</td>\n",
       "      <td>[0.055545475, 0.0517147625, 0.070868375, 0.099...</td>\n",
       "      <td>[0.0363918625, 0.038307225, 0.0689530125, 0.11...</td>\n",
       "      <td>[0, 0, 0, 0, 0, 0, 0, 0, 0, 0, 0, 0, 0, 0, 0, ...</td>\n",
       "    </tr>\n",
       "    <tr>\n",
       "      <th>4</th>\n",
       "      <td>U07</td>\n",
       "      <td>16</td>\n",
       "      <td>[0.226012625, 0.2336741, 0.2030283, 0.2834735,...</td>\n",
       "      <td>[0.003830725, 0.0019153625, -0.0248997, -0.007...</td>\n",
       "      <td>[0.0517147625, 0.055545475, 0.0823605375, 0.16...</td>\n",
       "      <td>[0, 0, 0, 0, 0, 0, 0, 0, 0, 0, 0, 0, 0, 0, 0, ...</td>\n",
       "    </tr>\n",
       "  </tbody>\n",
       "</table>\n",
       "</div>"
      ],
      "text/plain": [
       "  user  gesture                                             crop_x  \\\n",
       "0  U07       16  [0.214520475, 0.214520475, 0.22218192499999997...   \n",
       "1  U07       16  [0.22984334999999997, 0.226012625, 0.226012625...   \n",
       "2  U07       16  [0.20685905, 0.2030283, 0.226012625, 0.2758120...   \n",
       "3  U07       16  [0.2030283, 0.21068975, 0.19153615, 0.24516624...   \n",
       "4  U07       16  [0.226012625, 0.2336741, 0.2030283, 0.2834735,...   \n",
       "\n",
       "                                              crop_y  \\\n",
       "0  [0.0497994, 0.0478840375, 0.044053312500000004...   \n",
       "1  [0.01723825, 0.015322887499999998, 0.015322887...   \n",
       "2  [0.055545475, 0.053630124999999994, 0.06512228...   \n",
       "3  [0.055545475, 0.0517147625, 0.070868375, 0.099...   \n",
       "4  [0.003830725, 0.0019153625, -0.0248997, -0.007...   \n",
       "\n",
       "                                              crop_z  \\\n",
       "0  [0.040222587500000004, 0.040222587500000004, 0...   \n",
       "1  [0.0478840375, 0.0497994, 0.0727837375, 0.1589...   \n",
       "2  [0.0344765, 0.028730424999999997, 0.0689530125...   \n",
       "3  [0.0363918625, 0.038307225, 0.0689530125, 0.11...   \n",
       "4  [0.0517147625, 0.055545475, 0.0823605375, 0.16...   \n",
       "\n",
       "                                               label  \n",
       "0  [0, 0, 0, 0, 0, 0, 0, 0, 0, 0, 0, 0, 0, 0, 0, ...  \n",
       "1  [0, 0, 0, 0, 0, 0, 0, 0, 0, 0, 0, 0, 0, 0, 0, ...  \n",
       "2  [0, 0, 0, 0, 0, 0, 0, 0, 0, 0, 0, 0, 0, 0, 0, ...  \n",
       "3  [0, 0, 0, 0, 0, 0, 0, 0, 0, 0, 0, 0, 0, 0, 0, ...  \n",
       "4  [0, 0, 0, 0, 0, 0, 0, 0, 0, 0, 0, 0, 0, 0, 0, ...  "
      ]
     },
     "execution_count": 36,
     "metadata": {},
     "output_type": "execute_result"
    }
   ],
   "source": [
    "data=data.drop(columns=['repitition','x','y','z','x_norm','y_norm','z_norm'])\n",
    "data.head()"
   ]
  },
  {
   "cell_type": "code",
   "execution_count": 37,
   "metadata": {},
   "outputs": [
    {
     "name": "stdout",
     "output_type": "stream",
     "text": [
      "0.8312668750000001 -0.9998186\n",
      "0.9768342999999999 -0.4558559875\n",
      "0.9768342999999999 -0.8121131874999999\n"
     ]
    }
   ],
   "source": [
    "def get_max(array):\n",
    "    return np.max(array)\n",
    "def get_min(array):\n",
    "    return np.min(array)\n",
    "print(np.max(data['crop_x'].apply(get_max).values),np.min(data['crop_x'].apply(get_min).values))\n",
    "print(np.max(data['crop_y'].apply(get_max).values),np.min(data['crop_y'].apply(get_min).values))\n",
    "print(np.max(data['crop_z'].apply(get_max).values),np.min(data['crop_z'].apply(get_min).values))"
   ]
  },
  {
   "cell_type": "code",
   "execution_count": 38,
   "metadata": {},
   "outputs": [
    {
     "data": {
      "text/plain": [
       "'\\nseperate train and test data.\\none user is test. All others is train\\n'"
      ]
     },
     "execution_count": 38,
     "metadata": {},
     "output_type": "execute_result"
    }
   ],
   "source": [
    "'''\n",
    "seperate train and test data.\n",
    "one user is test. All others is train\n",
    "'''"
   ]
  },
  {
   "cell_type": "code",
   "execution_count": 39,
   "metadata": {},
   "outputs": [],
   "source": [
    "users=data['user'].unique()\n",
    "test_user=users[0]\n",
    "train_users=users[users!=test_user]\n",
    "\n",
    "train_data=data[data['user'].isin(train_users)]\n",
    "test_data=data[data['user']==test_user]"
   ]
  },
  {
   "cell_type": "code",
   "execution_count": 40,
   "metadata": {},
   "outputs": [
    {
     "data": {
      "text/html": [
       "<div>\n",
       "<style scoped>\n",
       "    .dataframe tbody tr th:only-of-type {\n",
       "        vertical-align: middle;\n",
       "    }\n",
       "\n",
       "    .dataframe tbody tr th {\n",
       "        vertical-align: top;\n",
       "    }\n",
       "\n",
       "    .dataframe thead th {\n",
       "        text-align: right;\n",
       "    }\n",
       "</style>\n",
       "<table border=\"1\" class=\"dataframe\">\n",
       "  <thead>\n",
       "    <tr style=\"text-align: right;\">\n",
       "      <th></th>\n",
       "      <th>user</th>\n",
       "      <th>gesture</th>\n",
       "      <th>crop_x</th>\n",
       "      <th>crop_y</th>\n",
       "      <th>crop_z</th>\n",
       "      <th>label</th>\n",
       "    </tr>\n",
       "  </thead>\n",
       "  <tbody>\n",
       "    <tr>\n",
       "      <th>400</th>\n",
       "      <td>U03</td>\n",
       "      <td>11</td>\n",
       "      <td>[0.0, 0.0, 0.068953, 0.0842759, 0.0651223, 0.0...</td>\n",
       "      <td>[0.0057460875, 0.0057460875, 0.0497994, 0.0900...</td>\n",
       "      <td>[0.12258312499999999, 0.12641385, 0.1225831249...</td>\n",
       "      <td>[0, 0, 0, 0, 0, 0, 0, 0, 0, 0, 1, 0, 0, 0, 0, ...</td>\n",
       "    </tr>\n",
       "    <tr>\n",
       "      <th>401</th>\n",
       "      <td>U03</td>\n",
       "      <td>11</td>\n",
       "      <td>[0.003830725, 0.00766145, 0.02681505, 0.076614...</td>\n",
       "      <td>[0.01723825, 0.01723825, 0.026815062499999997,...</td>\n",
       "      <td>[0.1244984875, 0.1244984875, 0.12641385, 0.134...</td>\n",
       "      <td>[0, 0, 0, 0, 0, 0, 0, 0, 0, 0, 1, 0, 0, 0, 0, ...</td>\n",
       "    </tr>\n",
       "    <tr>\n",
       "      <th>402</th>\n",
       "      <td>U03</td>\n",
       "      <td>11</td>\n",
       "      <td>[0.030645774999999997, 0.030645774999999997, 0...</td>\n",
       "      <td>[-0.0057460875, -0.0057460875, 0.045968675, 0....</td>\n",
       "      <td>[0.1283292125, 0.1244984875, 0.122583124999999...</td>\n",
       "      <td>[0, 0, 0, 0, 0, 0, 0, 0, 0, 0, 1, 0, 0, 0, 0, ...</td>\n",
       "    </tr>\n",
       "    <tr>\n",
       "      <th>403</th>\n",
       "      <td>U03</td>\n",
       "      <td>11</td>\n",
       "      <td>[0.00766145, 0.02681505, 0.061291575, 0.076614...</td>\n",
       "      <td>[0.0095768125, 0.0057460875, 0.044053312500000...</td>\n",
       "      <td>[0.1206677625, 0.1283292125, 0.118752412499999...</td>\n",
       "      <td>[0, 0, 0, 0, 0, 0, 0, 0, 0, 0, 1, 0, 0, 0, 0, ...</td>\n",
       "    </tr>\n",
       "    <tr>\n",
       "      <th>404</th>\n",
       "      <td>U03</td>\n",
       "      <td>11</td>\n",
       "      <td>[0.022984325, 0.0497994, 0.0651223, 0.0842759,...</td>\n",
       "      <td>[0.00766145, 0.0095768125, 0.05363012499999999...</td>\n",
       "      <td>[0.1244984875, 0.1244984875, 0.1130063125, 0.1...</td>\n",
       "      <td>[0, 0, 0, 0, 0, 0, 0, 0, 0, 0, 1, 0, 0, 0, 0, ...</td>\n",
       "    </tr>\n",
       "  </tbody>\n",
       "</table>\n",
       "</div>"
      ],
      "text/plain": [
       "    user  gesture                                             crop_x  \\\n",
       "400  U03       11  [0.0, 0.0, 0.068953, 0.0842759, 0.0651223, 0.0...   \n",
       "401  U03       11  [0.003830725, 0.00766145, 0.02681505, 0.076614...   \n",
       "402  U03       11  [0.030645774999999997, 0.030645774999999997, 0...   \n",
       "403  U03       11  [0.00766145, 0.02681505, 0.061291575, 0.076614...   \n",
       "404  U03       11  [0.022984325, 0.0497994, 0.0651223, 0.0842759,...   \n",
       "\n",
       "                                                crop_y  \\\n",
       "400  [0.0057460875, 0.0057460875, 0.0497994, 0.0900...   \n",
       "401  [0.01723825, 0.01723825, 0.026815062499999997,...   \n",
       "402  [-0.0057460875, -0.0057460875, 0.045968675, 0....   \n",
       "403  [0.0095768125, 0.0057460875, 0.044053312500000...   \n",
       "404  [0.00766145, 0.0095768125, 0.05363012499999999...   \n",
       "\n",
       "                                                crop_z  \\\n",
       "400  [0.12258312499999999, 0.12641385, 0.1225831249...   \n",
       "401  [0.1244984875, 0.1244984875, 0.12641385, 0.134...   \n",
       "402  [0.1283292125, 0.1244984875, 0.122583124999999...   \n",
       "403  [0.1206677625, 0.1283292125, 0.118752412499999...   \n",
       "404  [0.1244984875, 0.1244984875, 0.1130063125, 0.1...   \n",
       "\n",
       "                                                 label  \n",
       "400  [0, 0, 0, 0, 0, 0, 0, 0, 0, 0, 1, 0, 0, 0, 0, ...  \n",
       "401  [0, 0, 0, 0, 0, 0, 0, 0, 0, 0, 1, 0, 0, 0, 0, ...  \n",
       "402  [0, 0, 0, 0, 0, 0, 0, 0, 0, 0, 1, 0, 0, 0, 0, ...  \n",
       "403  [0, 0, 0, 0, 0, 0, 0, 0, 0, 0, 1, 0, 0, 0, 0, ...  \n",
       "404  [0, 0, 0, 0, 0, 0, 0, 0, 0, 0, 1, 0, 0, 0, 0, ...  "
      ]
     },
     "execution_count": 40,
     "metadata": {},
     "output_type": "execute_result"
    }
   ],
   "source": [
    "train_data.head()"
   ]
  },
  {
   "cell_type": "code",
   "execution_count": 41,
   "metadata": {},
   "outputs": [],
   "source": [
    "def get_batch(data,batch_size):\n",
    "    feature_list=[]\n",
    "    label_list=[]\n",
    "    batch=data.sample(n=batch_size)\n",
    "    for i in range(len(batch)):\n",
    "        features=[]\n",
    "        features.append(batch.iloc[i]['crop_x'])\n",
    "        features.append(batch.iloc[i]['crop_y'])\n",
    "        features.append(batch.iloc[i]['crop_z'])\n",
    "        features=np.array(features)\n",
    "        feature_list.append(features)\n",
    "        label_list.append(batch.iloc[i]['gesture']-1)\n",
    "    features=np.array(feature_list)\n",
    "    features=torch.from_numpy(features)\n",
    "    features=features.to(device)\n",
    "    features=features.float()\n",
    "    \n",
    "    labels=np.array(label_list)\n",
    "    labels=torch.from_numpy(labels)\n",
    "    labels=labels.to(device)\n",
    "    labels=labels.long()\n",
    "    return features,labels"
   ]
  },
  {
   "cell_type": "code",
   "execution_count": 42,
   "metadata": {},
   "outputs": [],
   "source": [
    "features,labels=get_batch(data=train_data,batch_size=10)"
   ]
  },
  {
   "cell_type": "code",
   "execution_count": 43,
   "metadata": {},
   "outputs": [
    {
     "data": {
      "text/plain": [
       "[<matplotlib.lines.Line2D at 0x2adbfaf96750>]"
      ]
     },
     "execution_count": 43,
     "metadata": {},
     "output_type": "execute_result"
    },
    {
     "data": {
      "image/png": "[encoded data removed]",
      "text/plain": [
       "<Figure size 432x288 with 1 Axes>"
      ]
     },
     "metadata": {
      "needs_background": "light"
     },
     "output_type": "display_data"
    }
   ],
   "source": [
    "plt.plot(features.detach().cpu().numpy()[0][2])"
   ]
  },
  {
   "cell_type": "code",
   "execution_count": 44,
   "metadata": {},
   "outputs": [],
   "source": [
    "def get_models(hidden1,hidden2):\n",
    "    class GeneratorModel(nn.Module):\n",
    "        def __init__(self):\n",
    "            super(GeneratorModel, self).__init__()\n",
    "            input_dim = 100 + 20\n",
    "            output_dim = 30*3\n",
    "            self.label_embedding = nn.Embedding(20, 20)\n",
    "\n",
    "            self.hidden_layer1 = nn.Sequential(\n",
    "                nn.Linear(input_dim, hidden1),\n",
    "                nn.LeakyReLU(0.2)\n",
    "            )\n",
    "\n",
    "            self.hidden_layer2 = nn.Sequential(\n",
    "                nn.Linear(hidden1, hidden2),\n",
    "                nn.LeakyReLU(0.2),\n",
    "                nn.Dropout(0.3)\n",
    "            )\n",
    "\n",
    "            self.hidden_layer3 = nn.Sequential(\n",
    "                nn.Linear(hidden2, output_dim),\n",
    "                nn.Tanh()\n",
    "            )\n",
    "\n",
    "        def forward(self, x, labels):\n",
    "            c = self.label_embedding(labels)\n",
    "            x = torch.cat([x,c], 1)\n",
    "            output = self.hidden_layer1(x)\n",
    "            output = self.hidden_layer2(output)\n",
    "            output = self.hidden_layer3(output)\n",
    "            output = output.view(-1,3,30)\n",
    "            return output.to(device)\n",
    "\n",
    "    class DiscriminatorModel(nn.Module):\n",
    "        def __init__(self):\n",
    "            super(DiscriminatorModel, self).__init__()\n",
    "            input_dim = 30*3 + 20\n",
    "            output_dim = 1\n",
    "            self.label_embedding = nn.Embedding(20, 20)\n",
    "\n",
    "            self.hidden_layer1 = nn.Sequential(\n",
    "                nn.Linear(input_dim, hidden1),\n",
    "                nn.LeakyReLU(0.2),\n",
    "                nn.Dropout(0.3)\n",
    "            )\n",
    "            \n",
    "            self.hidden_layer2 = nn.Sequential(\n",
    "                nn.Linear(hidden1, hidden2),\n",
    "                nn.LeakyReLU(0.2),\n",
    "                nn.Dropout(0.3)\n",
    "            )\n",
    "\n",
    "            self.hidden_layer3 = nn.Sequential(\n",
    "                nn.Linear(hidden2, output_dim),\n",
    "                nn.Sigmoid()\n",
    "            )\n",
    "\n",
    "        def forward(self, x, labels):\n",
    "            c = self.label_embedding(labels)\n",
    "            x = torch.cat([x, c], 1)\n",
    "            output = self.hidden_layer1(x)\n",
    "            output = self.hidden_layer2(output)\n",
    "            output = self.hidden_layer3(output)\n",
    "            return output.to(device)\n",
    "\n",
    "    discriminator = DiscriminatorModel()\n",
    "    generator = GeneratorModel()\n",
    "    discriminator.to(device)\n",
    "    generator.to(device)\n",
    "    \n",
    "    return generator,discriminator"
   ]
  },
  {
   "cell_type": "code",
   "execution_count": 27,
   "metadata": {},
   "outputs": [
    {
     "data": {
      "text/plain": [
       "GeneratorModel(\n",
       "  (label_embedding): Embedding(20, 20)\n",
       "  (hidden_layer1): Sequential(\n",
       "    (0): Linear(in_features=120, out_features=256, bias=True)\n",
       "    (1): LeakyReLU(negative_slope=0.2)\n",
       "  )\n",
       "  (hidden_layer2): Sequential(\n",
       "    (0): Linear(in_features=256, out_features=64, bias=True)\n",
       "    (1): LeakyReLU(negative_slope=0.2)\n",
       "    (2): Dropout(p=0.3, inplace=False)\n",
       "  )\n",
       "  (hidden_layer3): Sequential(\n",
       "    (0): Linear(in_features=64, out_features=90, bias=True)\n",
       "    (1): Tanh()\n",
       "  )\n",
       ")"
      ]
     },
     "execution_count": 27,
     "metadata": {},
     "output_type": "execute_result"
    }
   ],
   "source": [
    "generator"
   ]
  },
  {
   "cell_type": "code",
   "execution_count": 28,
   "metadata": {},
   "outputs": [
    {
     "data": {
      "text/plain": [
       "DiscriminatorModel(\n",
       "  (label_embedding): Embedding(20, 20)\n",
       "  (hidden_layer1): Sequential(\n",
       "    (0): Linear(in_features=110, out_features=256, bias=True)\n",
       "    (1): LeakyReLU(negative_slope=0.2)\n",
       "    (2): Dropout(p=0.3, inplace=False)\n",
       "  )\n",
       "  (hidden_layer2): Sequential(\n",
       "    (0): Linear(in_features=256, out_features=64, bias=True)\n",
       "    (1): LeakyReLU(negative_slope=0.2)\n",
       "    (2): Dropout(p=0.3, inplace=False)\n",
       "  )\n",
       "  (hidden_layer3): Sequential(\n",
       "    (0): Linear(in_features=64, out_features=1, bias=True)\n",
       "    (1): Sigmoid()\n",
       "  )\n",
       ")"
      ]
     },
     "execution_count": 28,
     "metadata": {},
     "output_type": "execute_result"
    }
   ],
   "source": [
    "discriminator"
   ]
  },
  {
   "cell_type": "code",
   "execution_count": 18,
   "metadata": {},
   "outputs": [
    {
     "data": {
      "text/plain": [
       "'\\nget cross entropy betweeen the training distribution and the\\ngenerated data distribution\\ncross entropy increases when the two data distributions are more alike\\n'"
      ]
     },
     "execution_count": 18,
     "metadata": {},
     "output_type": "execute_result"
    }
   ],
   "source": [
    "'''\n",
    "get cross entropy betweeen the training distribution and the\n",
    "generated data distribution\n",
    "cross entropy increases when the two data distributions are more alike\n",
    "'''"
   ]
  },
  {
   "cell_type": "code",
   "execution_count": 19,
   "metadata": {},
   "outputs": [
    {
     "name": "stdout",
     "output_type": "stream",
     "text": [
      "155.9490096034991\n"
     ]
    }
   ],
   "source": [
    "bin_edges=np.array(range(-10,11,1))/10\n",
    "def get_prob(array):\n",
    "    freq,ranges=np.histogram(array,bins=bin_edges)\n",
    "    freq+=1\n",
    "    prob=freq/np.sum(freq)\n",
    "    return prob\n",
    "def get_crossEntropy(p,q):\n",
    "    p_probs=np.apply_along_axis(get_prob,axis=0,arr=p)\n",
    "    q_probs=np.apply_along_axis(get_prob,axis=0,arr=q)\n",
    "    mul=(p_probs*np.log2(q_probs))\n",
    "    return -1*np.sum(mul)\n",
    "\n",
    "def concat(row):\n",
    "    ar1,ar2,ar3=row['crop_x'],row['crop_y'],row['crop_z']\n",
    "    return np.concatenate([ar1,ar2,ar3])\n",
    "\n",
    "def get_negative_coross_entropy_generator(train_data,generator):\n",
    "    #get array from training data\n",
    "    data=train_data.apply(concat,axis=1)\n",
    "    p=np.array([item for item in data])\n",
    "    \n",
    "    #generate data with the generator\n",
    "    noise = torch.randn(len(train_data),100).to(device)\n",
    "    fake_labels = torch.randint(0, 20, (len(train_data),)).to(device)\n",
    "    generated=generator(noise,fake_labels)\n",
    "    generated=generated.detach().cpu().numpy()\n",
    "    generated=generated.reshape(2851,-1)\n",
    "\n",
    "    #get the corr entropy form these distributions\n",
    "    ce=get_crossEntropy(p,generated)\n",
    "    return ce\n",
    "\n",
    "#entropy of the train distribution \n",
    "data=train_data.apply(concat,axis=1)\n",
    "p=np.array([item for item in data])\n",
    "ce=get_crossEntropy(p,p)\n",
    "print(ce)"
   ]
  },
  {
   "cell_type": "code",
   "execution_count": null,
   "metadata": {},
   "outputs": [],
   "source": [
    "out_file='/home/lnw8px/models/GAN/results.txt'\n",
    "n_epochs = 200\n",
    "batch_size = 16\n",
    "num_batches = len(train_data)\n",
    "lr=0.0002\n",
    "discount=0.9\n",
    "print(\"Number of batches: \",num_batches)\n",
    "current_CE=1000\n",
    "\n",
    "\n",
    "generator,discriminator=get_models(hidden1=256,hidden2=64)\n",
    "generator.train()\n",
    "discriminator.train()\n",
    "loss = nn.BCELoss()\n",
    "\n",
    "for epoch_idx in range(n_epochs):\n",
    "    discriminator_optimizer = optim.Adam(discriminator.parameters(), lr=lr)\n",
    "    generator_optimizer = optim.Adam(generator.parameters(), lr=lr)\n",
    "    print('lr='+str(lr))\n",
    "\n",
    "    f = open(out_file, \"a\")\n",
    "    f.write('lr = ' + str(lr)+'\\n')\n",
    "    f.close()\n",
    "    \n",
    "    G_loss = []\n",
    "    D_loss = []\n",
    "    \n",
    "    for batch_idx  in range(num_batches):\n",
    "\n",
    "        features,labels=get_batch(data=train_data,batch_size=batch_size)\n",
    "\n",
    "        noise = torch.randn(batch_size,100).to(device)\n",
    "        fake_labels = torch.randint(0, 20, (batch_size,)).to(device)\n",
    "        generated_data = generator(noise, fake_labels).view(batch_size,-1)\n",
    "\n",
    "        # Discriminator\n",
    "        true_data = features.view(batch_size, -1).to(device) # batch_size X 784\n",
    "        digit_labels = labels.to(device) # batch_size\n",
    "        true_labels = torch.ones(batch_size).to(device)\n",
    "\n",
    "        discriminator_optimizer.zero_grad()\n",
    "\n",
    "        discriminator_output_for_true_data = discriminator(true_data, digit_labels).view(batch_size)\n",
    "\n",
    "        true_discriminator_loss = loss(discriminator_output_for_true_data, true_labels)\n",
    "\n",
    "        discriminator_output_for_generated_data = discriminator(generated_data.detach(), fake_labels).view(batch_size)\n",
    "\n",
    "        generator_discriminator_loss = loss(\n",
    "            discriminator_output_for_generated_data, torch.zeros(batch_size).to(device)\n",
    "        )\n",
    "        discriminator_loss = (\n",
    "            true_discriminator_loss + generator_discriminator_loss\n",
    "        ) / 2\n",
    "\n",
    "        discriminator_loss.backward()\n",
    "        discriminator_optimizer.step()\n",
    "\n",
    "        D_loss.append(discriminator_loss.data.item())\n",
    "\n",
    "        # Generator\n",
    "\n",
    "        generator_optimizer.zero_grad()\n",
    "        # It's a choice to generate the data again\n",
    "        generated_data = generator(noise, fake_labels).view(batch_size,-1)\n",
    "\n",
    "        discriminator_output_on_generated_data = discriminator(generated_data, fake_labels).view(batch_size)\n",
    "\n",
    "        generator_loss = loss(discriminator_output_on_generated_data, true_labels)\n",
    "        generator_loss.backward()\n",
    "        generator_optimizer.step()\n",
    "\n",
    "        G_loss.append(generator_loss.data.item())\n",
    "\n",
    "\n",
    "    cross_entropy=get_negative_coross_entropy_generator(train_data,generator)\n",
    "\n",
    "    f = open(out_file, \"a\")\n",
    "    f.write('[%d/%d]: loss_d: %.3f, loss_g: %.3f' % (\n",
    "            (epoch_idx), n_epochs, torch.mean(torch.FloatTensor(D_loss)), torch.mean(torch.FloatTensor(G_loss))))\n",
    "    f.write('\\n')\n",
    "    f.write('cross entropy='+str(cross_entropy))\n",
    "    f.write('\\n')\n",
    "    f.close()\n",
    "    \n",
    "    print('[%d/%d]: loss_d: %.3f, loss_g: %.3f' % (\n",
    "            (epoch_idx), n_epochs, torch.mean(torch.FloatTensor(D_loss)), torch.mean(torch.FloatTensor(G_loss))))\n",
    "    print('cross entropy='+str(cross_entropy))\n",
    "    lr=lr*discount\n",
    "    \n",
    "    #save the model if it have the lowest cross entropy yet\n",
    "    if(cross_entropy<current_CE):\n",
    "        torch.save(generator.state_dict(),'/scratch/lnw8px/GAN/models/generator.pt')\n",
    "        current_CE=cross_entropy\n",
    "        print('saved model')"
   ]
  },
  {
   "cell_type": "code",
   "execution_count": null,
   "metadata": {},
   "outputs": [],
   "source": [
    "'''\n",
    "get the cross entropy between generated and real data\n",
    "'''"
   ]
  },
  {
   "cell_type": "code",
   "execution_count": 45,
   "metadata": {},
   "outputs": [
    {
     "data": {
      "text/plain": [
       "<All keys matched successfully>"
      ]
     },
     "execution_count": 45,
     "metadata": {},
     "output_type": "execute_result"
    }
   ],
   "source": [
    "generator,discriminator=get_models(hidden1=256,hidden2=64)\n",
    "generator.load_state_dict(torch.load('/scratch/lnw8px/GAN/models/generator.pt'))"
   ]
  },
  {
   "cell_type": "code",
   "execution_count": 25,
   "metadata": {},
   "outputs": [
    {
     "data": {
      "text/plain": [
       "159.01201878698572"
      ]
     },
     "execution_count": 25,
     "metadata": {},
     "output_type": "execute_result"
    }
   ],
   "source": [
    "cross_entropy=get_negative_coross_entropy_generator(train_data,generator)\n",
    "cross_entropy"
   ]
  },
  {
   "cell_type": "code",
   "execution_count": null,
   "metadata": {},
   "outputs": [],
   "source": [
    "'''\n",
    "Generate some samples and plot them\n",
    "'''"
   ]
  },
  {
   "cell_type": "code",
   "execution_count": 48,
   "metadata": {},
   "outputs": [],
   "source": [
    "#generate 10 samples\n",
    "batch_size=10\n",
    "noise = torch.randn(batch_size,100).to(device)\n",
    "fake_labels = torch.randint(0, 20, (batch_size,)).to(device)\n",
    "generated=generator(noise,fake_labels)\n",
    "generated=generated.detach().cpu().numpy()"
   ]
  },
  {
   "cell_type": "code",
   "execution_count": 60,
   "metadata": {},
   "outputs": [
    {
     "data": {
      "image/png": "[encoded data removed]",
      "text/plain": [
       "<Figure size 432x288 with 3 Axes>"
      ]
     },
     "metadata": {
      "needs_background": "light"
     },
     "output_type": "display_data"
    }
   ],
   "source": [
    "plt.subplot(5,3,1)\n",
    "plt.plot(generated[1][0])\n",
    "plt.title('x axis')\n",
    "plt.xlabel('sample number')\n",
    "\n",
    "plt.subplot(5,3,2)\n",
    "plt.plot(generated[1][1])\n",
    "plt.title('y axis')\n",
    "plt.xlabel('sample number')\n",
    "\n",
    "plt.subplot(5,3,3)\n",
    "plt.plot(generated[1][2])\n",
    "plt.title('z axis')\n",
    "plt.xlabel('sample number')\n",
    "\n",
    "plt.subplots_adjust(left=None, bottom=None, right=1.6, top=None, wspace=None, hspace=None)\n",
    "\n",
    "plt.show()"
   ]
  },
  {
   "cell_type": "code",
   "execution_count": null,
   "metadata": {},
   "outputs": [],
   "source": [
    "'''\n",
    "Select the best hidden dimention sizes\n",
    "'''"
   ]
  },
  {
   "cell_type": "code",
   "execution_count": 197,
   "metadata": {},
   "outputs": [
    {
     "name": "stdout",
     "output_type": "stream",
     "text": [
      "Number of batches:  2851\n",
      "[0/20]: loss_d: 0.688, loss_g: 0.703\n",
      "cross entropy=208.0268099997408\n",
      "[1/20]: loss_d: 0.693, loss_g: 0.693\n",
      "cross entropy=181.5684180072442\n"
     ]
    },
    {
     "name": "stderr",
     "output_type": "stream",
     "text": [
      "\n",
      "KeyboardInterrupt\n",
      "\n"
     ]
    }
   ],
   "source": [
    "out_file='/home/lnw8px/models/GAN/results1.txt'\n",
    "n_epochs = 20\n",
    "batch_size = 32\n",
    "num_batches = len(train_data)\n",
    "hidden_dims=[16,32,64,128,256,512]\n",
    "print(\"Number of batches: \",num_batches)\n",
    "\n",
    "for hidden1 in hidden_dims:\n",
    "    for hidden2 in hidden_dims:\n",
    "        \n",
    "        generator,discriminator=get_models(hidden1=32,hidden2=64)\n",
    "        generator.train()\n",
    "        discriminator.train()\n",
    "\n",
    "        discriminator_optimizer = optim.Adam(discriminator.parameters(), lr=0.0002)\n",
    "        generator_optimizer = optim.Adam(generator.parameters(), lr=0.0002)\n",
    "\n",
    "        loss = nn.BCELoss()\n",
    "        \n",
    "        f = open(out_file, \"a\")\n",
    "        f.write(str(hidden1)+','+str(hidden2)+'\\n')\n",
    "        f.close()\n",
    "        \n",
    "        for epoch_idx in range(n_epochs):\n",
    "            G_loss = []\n",
    "            D_loss = []\n",
    "            for batch_idx  in range(num_batches):\n",
    "\n",
    "                features,labels=get_batch(data=train_data,batch_size=batch_size)\n",
    "\n",
    "                noise = torch.randn(batch_size,100).to(device)\n",
    "                fake_labels = torch.randint(0, 20, (batch_size,)).to(device)\n",
    "                generated_data = generator(noise, fake_labels).view(batch_size,-1)\n",
    "\n",
    "                # Discriminator\n",
    "                true_data = features.view(batch_size, -1).to(device) # batch_size X 784\n",
    "                digit_labels = labels.to(device) # batch_size\n",
    "                true_labels = torch.ones(batch_size).to(device)\n",
    "\n",
    "                discriminator_optimizer.zero_grad()\n",
    "\n",
    "                discriminator_output_for_true_data = discriminator(true_data, digit_labels).view(batch_size)\n",
    "\n",
    "                true_discriminator_loss = loss(discriminator_output_for_true_data, true_labels)\n",
    "\n",
    "                discriminator_output_for_generated_data = discriminator(generated_data.detach(), fake_labels).view(batch_size)\n",
    "\n",
    "                generator_discriminator_loss = loss(\n",
    "                    discriminator_output_for_generated_data, torch.zeros(batch_size).to(device)\n",
    "                )\n",
    "                discriminator_loss = (\n",
    "                    true_discriminator_loss + generator_discriminator_loss\n",
    "                ) / 2\n",
    "\n",
    "                discriminator_loss.backward()\n",
    "                discriminator_optimizer.step()\n",
    "\n",
    "                D_loss.append(discriminator_loss.data.item())\n",
    "\n",
    "                # Generator\n",
    "\n",
    "                generator_optimizer.zero_grad()\n",
    "                # It's a choice to generate the data again\n",
    "                generated_data = generator(noise, fake_labels).view(batch_size,-1)\n",
    "\n",
    "                discriminator_output_on_generated_data = discriminator(generated_data, fake_labels).view(batch_size)\n",
    "\n",
    "                generator_loss = loss(discriminator_output_on_generated_data, true_labels)\n",
    "                generator_loss.backward()\n",
    "                generator_optimizer.step()\n",
    "\n",
    "                G_loss.append(generator_loss.data.item())\n",
    "                \n",
    "            \n",
    "            f = open(out_file, \"a\")\n",
    "            f.write('[%d/%d]: loss_d: %.3f, loss_g: %.3f' % (\n",
    "                    (epoch_idx), n_epochs, torch.mean(torch.FloatTensor(D_loss)), torch.mean(torch.FloatTensor(G_loss))))\n",
    "            f.write('\\n')\n",
    "            f.write('cross entropy='+str(get_negative_coross_entropy_generator(train_data,generator)))\n",
    "            f.write('\\n')\n",
    "            f.close()\n",
    "            print('[%d/%d]: loss_d: %.3f, loss_g: %.3f' % (\n",
    "                    (epoch_idx), n_epochs, torch.mean(torch.FloatTensor(D_loss)), torch.mean(torch.FloatTensor(G_loss))))\n",
    "            print('cross entropy='+str(get_negative_coross_entropy_generator(train_data,generator)))"
   ]
  },
  {
   "cell_type": "code",
   "execution_count": null,
   "metadata": {},
   "outputs": [],
   "source": []
  }
 ],
 "metadata": {
  "kernelspec": {
   "display_name": "PyTorch 1.5.1 Py3.7",
   "language": "python",
   "name": "pytorch-1.5.1"
  },
  "language_info": {
   "codemirror_mode": {
    "name": "ipython",
    "version": 3
   },
   "file_extension": ".py",
   "mimetype": "text/x-python",
   "name": "python",
   "nbconvert_exporter": "python",
   "pygments_lexer": "ipython3",
   "version": "3.7.7"
  }
 },
 "nbformat": 4,
 "nbformat_minor": 4
}
