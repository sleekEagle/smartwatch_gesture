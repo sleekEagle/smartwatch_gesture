{
 "cells": [
  {
   "cell_type": "code",
   "execution_count": 42,
   "metadata": {},
   "outputs": [],
   "source": [
    "import os\n",
    "import numpy as np\n",
    "import pandas as pd\n",
    "import matplotlib.pyplot as plt"
   ]
  },
  {
   "cell_type": "code",
   "execution_count": 43,
   "metadata": {},
   "outputs": [
    {
     "data": {
      "text/plain": [
       "'\\nCheck if the time betwene samples are constant\\n'"
      ]
     },
     "execution_count": 43,
     "metadata": {},
     "output_type": "execute_result"
    }
   ],
   "source": [
    "'''\n",
    "Check if the time betwene samples are constant\n",
    "'''"
   ]
  },
  {
   "cell_type": "code",
   "execution_count": null,
   "metadata": {},
   "outputs": [],
   "source": [
    "path='/scratch/lnw8px/GAN/gestures-dataset/'\n",
    "user_list=os.listdir(path)\n",
    "data = {'user': [], 'repitition': [],'gesture':[],'ts':[],'x':[],'y':[],'z':[]}\n",
    "for user in user_list:\n",
    "    if(user[0]=='U'):\n",
    "        gesture_list=os.listdir(path+user)\n",
    "        for gesture in gesture_list:\n",
    "            count=0\n",
    "            repitition_list=os.listdir(path+user+'/'+gesture)\n",
    "            for repitition in repitition_list:\n",
    "                count+=1\n",
    "                repitition_num=repitition[0:2]\n",
    "                file=path+user+'/'+gesture+'/'+repitition\n",
    "                f = open(file, \"r\")\n",
    "                lines=f.readlines()\n",
    "                x_list,y_list,z_list,ts_list=[],[],[],[]\n",
    "                #read data into variables\n",
    "                for line in lines:\n",
    "                    splt=line.split(' ')\n",
    "                    ts,x,y,z=int(splt[2]),float(splt[3]),float(splt[4]),float(splt[5][0:-1])\n",
    "                    x_list.append(x)\n",
    "                    y_list.append(y)\n",
    "                    z_list.append(z)\n",
    "                    ts_list.append(ts)\n",
    "                data['user'].append(user)\n",
    "                data['repitition'].append(int(repitition_num))\n",
    "                data['gesture'].append(int(gesture))\n",
    "                data['x'].append(x_list)\n",
    "                data['y'].append(y_list)\n",
    "                data['z'].append(z_list)\n",
    "                data['ts'].append(ts_list)\n",
    "\n",
    "diff_list=[]\n",
    "for ts_list in data['ts']:\n",
    "    diff=np.diff(np.array(ts_list))\n",
    "    for item in list(diff):\n",
    "        diff_list.append(item)\n",
    "diff_list=np.array(diff_list)\n",
    "print('average time difference between two samples='+str(np.mean(diff_list)))\n",
    "plt.hist(diff_list)"
   ]
  },
  {
   "cell_type": "code",
   "execution_count": null,
   "metadata": {},
   "outputs": [],
   "source": [
    "'''\n",
    "109933886 should be in nano seconds. Therefore average sampling rate = 1/109933886*1e9\n",
    "which is 9 Hz\n",
    "'''\n",
    "\n",
    "'''\n",
    "most of the samples are taken at the same interval. i.e the sampling rate is constant most of the time.\n",
    "There is no need to resample/interpolate\n",
    "'''"
   ]
  },
  {
   "cell_type": "code",
   "execution_count": 45,
   "metadata": {},
   "outputs": [],
   "source": [
    "path='/scratch/lnw8px/GAN/gestures-dataset/'\n",
    "user_list=os.listdir(path)\n",
    "data = {'user': [], 'repitition': [],'gesture':[],'x':[],'y':[],'z':[]}\n",
    "for user in user_list:\n",
    "    if(user[0]=='U'):\n",
    "        gesture_list=os.listdir(path+user)\n",
    "        for gesture in gesture_list:\n",
    "            count=0\n",
    "            repitition_list=os.listdir(path+user+'/'+gesture)\n",
    "            for repitition in repitition_list:\n",
    "                count+=1\n",
    "                repitition_num=repitition[0:2]\n",
    "                file=path+user+'/'+gesture+'/'+repitition\n",
    "                f = open(file, \"r\")\n",
    "                lines=f.readlines()\n",
    "                x_list,y_list,z_list=[],[],[]\n",
    "                #read data into variables\n",
    "                for line in lines:\n",
    "                    splt=line.split(' ')\n",
    "                    ts,x,y,z=int(splt[2]),float(splt[3]),float(splt[4]),float(splt[5][0:-1])\n",
    "                    x_list.append(x)\n",
    "                    y_list.append(y)\n",
    "                    z_list.append(z)\n",
    "                data['user'].append(user)\n",
    "                data['repitition'].append(int(repitition_num))\n",
    "                data['gesture'].append(int(gesture))\n",
    "                data['x'].append(x_list)\n",
    "                data['y'].append(y_list)\n",
    "                data['z'].append(z_list)\n",
    "            #print(user+'/'+repitition)\n",
    "            #print(count)\n",
    "data=pd.DataFrame(data)"
   ]
  },
  {
   "cell_type": "code",
   "execution_count": 127,
   "metadata": {},
   "outputs": [],
   "source": [
    "'''\n",
    "plot x,y and z data for 10 repititions\n",
    "of the user 'U01' and of gesture 10\n",
    "'''"
   ]
  },
  {
   "cell_type": "code",
   "execution_count": 60,
   "metadata": {},
   "outputs": [
    {
     "data": {
      "image/png": "[encoded data removed]",
      "text/plain": [
       "<Figure size 432x288 with 3 Axes>"
      ]
     },
     "metadata": {
      "needs_background": "light"
     },
     "output_type": "display_data"
    }
   ],
   "source": [
    "d=data[(data['user']=='U01') & (data['gesture']==10)]\n",
    "for i in range(0,1):\n",
    "    plt.subplot(5,3,1)\n",
    "    plt.plot(d['x'].iloc[i])\n",
    "    plt.title('x axis')\n",
    "    plt.xlabel('sample number')\n",
    "    \n",
    "    plt.subplot(5,3,2)\n",
    "    plt.plot(d['y'].iloc[i])\n",
    "    plt.title('y axis')\n",
    "    plt.xlabel('sample number')\n",
    "    \n",
    "    plt.subplot(5,3,3)\n",
    "    plt.plot(d['z'].iloc[i])\n",
    "    plt.title('z axis')\n",
    "    plt.xlabel('sample number')\n",
    "    \n",
    "    plt.show()"
   ]
  },
  {
   "cell_type": "code",
   "execution_count": 139,
   "metadata": {},
   "outputs": [
    {
     "data": {
      "text/html": [
       "<div>\n",
       "<style scoped>\n",
       "    .dataframe tbody tr th:only-of-type {\n",
       "        vertical-align: middle;\n",
       "    }\n",
       "\n",
       "    .dataframe tbody tr th {\n",
       "        vertical-align: top;\n",
       "    }\n",
       "\n",
       "    .dataframe thead th {\n",
       "        text-align: right;\n",
       "    }\n",
       "</style>\n",
       "<table border=\"1\" class=\"dataframe\">\n",
       "  <thead>\n",
       "    <tr style=\"text-align: right;\">\n",
       "      <th></th>\n",
       "      <th>user</th>\n",
       "      <th>repitition</th>\n",
       "      <th>gesture</th>\n",
       "      <th>x</th>\n",
       "      <th>y</th>\n",
       "      <th>z</th>\n",
       "    </tr>\n",
       "  </thead>\n",
       "  <tbody>\n",
       "    <tr>\n",
       "      <th>0</th>\n",
       "      <td>U07</td>\n",
       "      <td>5</td>\n",
       "      <td>16</td>\n",
       "      <td>[8.580819, 8.580819, 8.887277, 10.726024, 10.7...</td>\n",
       "      <td>[3.983952, 3.830723, 3.524265, 6.895301, 6.588...</td>\n",
       "      <td>[3.217807, 3.217807, 4.903325, 10.572795, 9.50...</td>\n",
       "    </tr>\n",
       "    <tr>\n",
       "      <th>1</th>\n",
       "      <td>U07</td>\n",
       "      <td>2</td>\n",
       "      <td>16</td>\n",
       "      <td>[9.193734, 9.040505, 9.040505, 10.572795, 12.2...</td>\n",
       "      <td>[1.37906, 1.225831, 1.225831, 3.830723, 1.0726...</td>\n",
       "      <td>[3.830723, 3.983952, 5.822699, 12.717999, 11.7...</td>\n",
       "    </tr>\n",
       "    <tr>\n",
       "      <th>2</th>\n",
       "      <td>U07</td>\n",
       "      <td>13</td>\n",
       "      <td>16</td>\n",
       "      <td>[8.274362, 8.121132, 9.040505, 11.032481, 11.3...</td>\n",
       "      <td>[4.443638, 4.29041, 5.209783, 7.967903, 7.5082...</td>\n",
       "      <td>[2.75812, 2.298434, 5.516241, 11.33894, 9.3469...</td>\n",
       "    </tr>\n",
       "    <tr>\n",
       "      <th>3</th>\n",
       "      <td>U07</td>\n",
       "      <td>14</td>\n",
       "      <td>16</td>\n",
       "      <td>[8.121132, 8.42759, 7.661446, 9.80665, 10.2663...</td>\n",
       "      <td>[4.443638, 4.137181, 5.66947, 7.967903, 7.9679...</td>\n",
       "      <td>[2.911349, 3.064578, 5.516241, 9.193734, 9.500...</td>\n",
       "    </tr>\n",
       "    <tr>\n",
       "      <th>4</th>\n",
       "      <td>U07</td>\n",
       "      <td>3</td>\n",
       "      <td>16</td>\n",
       "      <td>[9.040505, 9.346964, 8.121132, 11.33894, 13.02...</td>\n",
       "      <td>[0.306458, 0.153229, -1.991976, -0.612916, -1....</td>\n",
       "      <td>[4.137181, 4.443638, 6.588843, 12.871228, 12.4...</td>\n",
       "    </tr>\n",
       "  </tbody>\n",
       "</table>\n",
       "</div>"
      ],
      "text/plain": [
       "  user  repitition  gesture  \\\n",
       "0  U07           5       16   \n",
       "1  U07           2       16   \n",
       "2  U07          13       16   \n",
       "3  U07          14       16   \n",
       "4  U07           3       16   \n",
       "\n",
       "                                                   x  \\\n",
       "0  [8.580819, 8.580819, 8.887277, 10.726024, 10.7...   \n",
       "1  [9.193734, 9.040505, 9.040505, 10.572795, 12.2...   \n",
       "2  [8.274362, 8.121132, 9.040505, 11.032481, 11.3...   \n",
       "3  [8.121132, 8.42759, 7.661446, 9.80665, 10.2663...   \n",
       "4  [9.040505, 9.346964, 8.121132, 11.33894, 13.02...   \n",
       "\n",
       "                                                   y  \\\n",
       "0  [3.983952, 3.830723, 3.524265, 6.895301, 6.588...   \n",
       "1  [1.37906, 1.225831, 1.225831, 3.830723, 1.0726...   \n",
       "2  [4.443638, 4.29041, 5.209783, 7.967903, 7.5082...   \n",
       "3  [4.443638, 4.137181, 5.66947, 7.967903, 7.9679...   \n",
       "4  [0.306458, 0.153229, -1.991976, -0.612916, -1....   \n",
       "\n",
       "                                                   z  \n",
       "0  [3.217807, 3.217807, 4.903325, 10.572795, 9.50...  \n",
       "1  [3.830723, 3.983952, 5.822699, 12.717999, 11.7...  \n",
       "2  [2.75812, 2.298434, 5.516241, 11.33894, 9.3469...  \n",
       "3  [2.911349, 3.064578, 5.516241, 9.193734, 9.500...  \n",
       "4  [4.137181, 4.443638, 6.588843, 12.871228, 12.4...  "
      ]
     },
     "execution_count": 139,
     "metadata": {},
     "output_type": "execute_result"
    }
   ],
   "source": [
    "data.head()"
   ]
  },
  {
   "cell_type": "code",
   "execution_count": null,
   "metadata": {},
   "outputs": [],
   "source": [
    "'''\n",
    "Distribustion of lengths of the data segments. Here 10 is approx 1 second\n",
    "'''"
   ]
  },
  {
   "cell_type": "code",
   "execution_count": 64,
   "metadata": {},
   "outputs": [
    {
     "name": "stdout",
     "output_type": "stream",
     "text": [
      "mean=19.707782220855123\n",
      "sd=4.6709108221286515\n"
     ]
    },
    {
     "data": {
      "image/png": "[encoded data removed]",
      "text/plain": [
       "<Figure size 432x288 with 1 Axes>"
      ]
     },
     "metadata": {
      "needs_background": "light"
     },
     "output_type": "display_data"
    }
   ],
   "source": [
    "def get_len(array):\n",
    "    return len(array)\n",
    "lengths=data['x'].apply(get_len)\n",
    "plt.hist(lengths)\n",
    "plt.xlabel('sample length')\n",
    "plt.ylabel('frequency')\n",
    "print('mean='+str(np.mean(lengths)))\n",
    "print('sd='+str(np.std(lengths)))"
   ]
  },
  {
   "cell_type": "code",
   "execution_count": null,
   "metadata": {},
   "outputs": [],
   "source": [
    "'''\n",
    "save the dataframe as pickle\n",
    "'''"
   ]
  },
  {
   "cell_type": "code",
   "execution_count": 201,
   "metadata": {},
   "outputs": [],
   "source": [
    "data.to_pickle('/scratch/lnw8px/GAN/data.pkl')"
   ]
  },
  {
   "cell_type": "code",
   "execution_count": 202,
   "metadata": {},
   "outputs": [
    {
     "data": {
      "text/html": [
       "<div>\n",
       "<style scoped>\n",
       "    .dataframe tbody tr th:only-of-type {\n",
       "        vertical-align: middle;\n",
       "    }\n",
       "\n",
       "    .dataframe tbody tr th {\n",
       "        vertical-align: top;\n",
       "    }\n",
       "\n",
       "    .dataframe thead th {\n",
       "        text-align: right;\n",
       "    }\n",
       "</style>\n",
       "<table border=\"1\" class=\"dataframe\">\n",
       "  <thead>\n",
       "    <tr style=\"text-align: right;\">\n",
       "      <th></th>\n",
       "      <th>user</th>\n",
       "      <th>repitition</th>\n",
       "      <th>gesture</th>\n",
       "      <th>x</th>\n",
       "      <th>y</th>\n",
       "      <th>z</th>\n",
       "      <th>crop_x</th>\n",
       "      <th>crop_y</th>\n",
       "      <th>crop_z</th>\n",
       "    </tr>\n",
       "  </thead>\n",
       "  <tbody>\n",
       "    <tr>\n",
       "      <th>0</th>\n",
       "      <td>U07</td>\n",
       "      <td>5</td>\n",
       "      <td>16</td>\n",
       "      <td>[8.580819, 8.580819, 8.887277, 10.726024, 10.7...</td>\n",
       "      <td>[3.983952, 3.830723, 3.524265, 6.895301, 6.588...</td>\n",
       "      <td>[3.217807, 3.217807, 4.903325, 10.572795, 9.50...</td>\n",
       "      <td>[8.580819, 8.580819, 8.580819, 8.580819, 8.580...</td>\n",
       "      <td>[8.580819, 8.580819, 8.580819, 8.580819, 8.580...</td>\n",
       "      <td>[8.580819, 8.580819, 8.580819, 8.580819, 8.580...</td>\n",
       "    </tr>\n",
       "    <tr>\n",
       "      <th>1</th>\n",
       "      <td>U07</td>\n",
       "      <td>2</td>\n",
       "      <td>16</td>\n",
       "      <td>[9.193734, 9.040505, 9.040505, 10.572795, 12.2...</td>\n",
       "      <td>[1.37906, 1.225831, 1.225831, 3.830723, 1.0726...</td>\n",
       "      <td>[3.830723, 3.983952, 5.822699, 12.717999, 11.7...</td>\n",
       "      <td>[9.193734, 9.193734, 9.193734, 9.193734, 9.193...</td>\n",
       "      <td>[9.193734, 9.193734, 9.193734, 9.193734, 9.193...</td>\n",
       "      <td>[9.193734, 9.193734, 9.193734, 9.193734, 9.193...</td>\n",
       "    </tr>\n",
       "    <tr>\n",
       "      <th>2</th>\n",
       "      <td>U07</td>\n",
       "      <td>13</td>\n",
       "      <td>16</td>\n",
       "      <td>[8.274362, 8.121132, 9.040505, 11.032481, 11.3...</td>\n",
       "      <td>[4.443638, 4.29041, 5.209783, 7.967903, 7.5082...</td>\n",
       "      <td>[2.75812, 2.298434, 5.516241, 11.33894, 9.3469...</td>\n",
       "      <td>[8.274362, 8.274362, 8.274362, 8.274362, 8.274...</td>\n",
       "      <td>[8.274362, 8.274362, 8.274362, 8.274362, 8.274...</td>\n",
       "      <td>[8.274362, 8.274362, 8.274362, 8.274362, 8.274...</td>\n",
       "    </tr>\n",
       "    <tr>\n",
       "      <th>3</th>\n",
       "      <td>U07</td>\n",
       "      <td>14</td>\n",
       "      <td>16</td>\n",
       "      <td>[8.121132, 8.42759, 7.661446, 9.80665, 10.2663...</td>\n",
       "      <td>[4.443638, 4.137181, 5.66947, 7.967903, 7.9679...</td>\n",
       "      <td>[2.911349, 3.064578, 5.516241, 9.193734, 9.500...</td>\n",
       "      <td>[8.121132, 8.121132, 8.121132, 8.121132, 8.121...</td>\n",
       "      <td>[8.121132, 8.121132, 8.121132, 8.121132, 8.121...</td>\n",
       "      <td>[8.121132, 8.121132, 8.121132, 8.121132, 8.121...</td>\n",
       "    </tr>\n",
       "    <tr>\n",
       "      <th>4</th>\n",
       "      <td>U07</td>\n",
       "      <td>3</td>\n",
       "      <td>16</td>\n",
       "      <td>[9.040505, 9.346964, 8.121132, 11.33894, 13.02...</td>\n",
       "      <td>[0.306458, 0.153229, -1.991976, -0.612916, -1....</td>\n",
       "      <td>[4.137181, 4.443638, 6.588843, 12.871228, 12.4...</td>\n",
       "      <td>[9.040505, 9.040505, 9.040505, 9.040505, 9.040...</td>\n",
       "      <td>[9.040505, 9.040505, 9.040505, 9.040505, 9.040...</td>\n",
       "      <td>[9.040505, 9.040505, 9.040505, 9.040505, 9.040...</td>\n",
       "    </tr>\n",
       "  </tbody>\n",
       "</table>\n",
       "</div>"
      ],
      "text/plain": [
       "  user  repitition  gesture  \\\n",
       "0  U07           5       16   \n",
       "1  U07           2       16   \n",
       "2  U07          13       16   \n",
       "3  U07          14       16   \n",
       "4  U07           3       16   \n",
       "\n",
       "                                                   x  \\\n",
       "0  [8.580819, 8.580819, 8.887277, 10.726024, 10.7...   \n",
       "1  [9.193734, 9.040505, 9.040505, 10.572795, 12.2...   \n",
       "2  [8.274362, 8.121132, 9.040505, 11.032481, 11.3...   \n",
       "3  [8.121132, 8.42759, 7.661446, 9.80665, 10.2663...   \n",
       "4  [9.040505, 9.346964, 8.121132, 11.33894, 13.02...   \n",
       "\n",
       "                                                   y  \\\n",
       "0  [3.983952, 3.830723, 3.524265, 6.895301, 6.588...   \n",
       "1  [1.37906, 1.225831, 1.225831, 3.830723, 1.0726...   \n",
       "2  [4.443638, 4.29041, 5.209783, 7.967903, 7.5082...   \n",
       "3  [4.443638, 4.137181, 5.66947, 7.967903, 7.9679...   \n",
       "4  [0.306458, 0.153229, -1.991976, -0.612916, -1....   \n",
       "\n",
       "                                                   z  \\\n",
       "0  [3.217807, 3.217807, 4.903325, 10.572795, 9.50...   \n",
       "1  [3.830723, 3.983952, 5.822699, 12.717999, 11.7...   \n",
       "2  [2.75812, 2.298434, 5.516241, 11.33894, 9.3469...   \n",
       "3  [2.911349, 3.064578, 5.516241, 9.193734, 9.500...   \n",
       "4  [4.137181, 4.443638, 6.588843, 12.871228, 12.4...   \n",
       "\n",
       "                                              crop_x  \\\n",
       "0  [8.580819, 8.580819, 8.580819, 8.580819, 8.580...   \n",
       "1  [9.193734, 9.193734, 9.193734, 9.193734, 9.193...   \n",
       "2  [8.274362, 8.274362, 8.274362, 8.274362, 8.274...   \n",
       "3  [8.121132, 8.121132, 8.121132, 8.121132, 8.121...   \n",
       "4  [9.040505, 9.040505, 9.040505, 9.040505, 9.040...   \n",
       "\n",
       "                                              crop_y  \\\n",
       "0  [8.580819, 8.580819, 8.580819, 8.580819, 8.580...   \n",
       "1  [9.193734, 9.193734, 9.193734, 9.193734, 9.193...   \n",
       "2  [8.274362, 8.274362, 8.274362, 8.274362, 8.274...   \n",
       "3  [8.121132, 8.121132, 8.121132, 8.121132, 8.121...   \n",
       "4  [9.040505, 9.040505, 9.040505, 9.040505, 9.040...   \n",
       "\n",
       "                                              crop_z  \n",
       "0  [8.580819, 8.580819, 8.580819, 8.580819, 8.580...  \n",
       "1  [9.193734, 9.193734, 9.193734, 9.193734, 9.193...  \n",
       "2  [8.274362, 8.274362, 8.274362, 8.274362, 8.274...  \n",
       "3  [8.121132, 8.121132, 8.121132, 8.121132, 8.121...  \n",
       "4  [9.040505, 9.040505, 9.040505, 9.040505, 9.040...  "
      ]
     },
     "execution_count": 202,
     "metadata": {},
     "output_type": "execute_result"
    }
   ],
   "source": [
    "data.head()"
   ]
  },
  {
   "cell_type": "code",
   "execution_count": null,
   "metadata": {},
   "outputs": [],
   "source": [
    "'''\n",
    "analyze min and max values of acceleration data\n",
    "'''"
   ]
  },
  {
   "cell_type": "code",
   "execution_count": 214,
   "metadata": {},
   "outputs": [
    {
     "name": "stdout",
     "output_type": "stream",
     "text": [
      "33.250675 -39.992744\n",
      "78.146744 -36.468479\n",
      "78.146744 -64.969055\n"
     ]
    }
   ],
   "source": [
    "def get_max(array):\n",
    "    return np.max(array)\n",
    "def get_min(array):\n",
    "    return np.min(array)\n",
    "print(np.max(data['x'].apply(get_max).values),np.min(data['x'].apply(get_min).values))\n",
    "print(np.max(data['y'].apply(get_max).values),np.min(data['y'].apply(get_min).values))\n",
    "print(np.max(data['z'].apply(get_max).values),np.min(data['z'].apply(get_min).values))"
   ]
  }
 ],
 "metadata": {
  "kernelspec": {
   "display_name": "Python 3",
   "language": "python",
   "name": "python3"
  },
  "language_info": {
   "codemirror_mode": {
    "name": "ipython",
    "version": 3
   },
   "file_extension": ".py",
   "mimetype": "text/x-python",
   "name": "python",
   "nbconvert_exporter": "python",
   "pygments_lexer": "ipython3",
   "version": "3.7.4"
  }
 },
 "nbformat": 4,
 "nbformat_minor": 4
}
