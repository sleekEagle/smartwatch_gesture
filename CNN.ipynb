{
 "cells": [
  {
   "cell_type": "code",
   "execution_count": 1,
   "metadata": {},
   "outputs": [],
   "source": [
    "import pandas as pd\n",
    "import numpy as np\n",
    "from random import randint\n",
    "import matplotlib.pyplot as plt\n",
    "import torch\n",
    "import torch.nn as nn\n",
    "\n",
    "# torch.cuda.is_available() checks and returns a Boolean True if a GPU is available, else it'll return False\n",
    "is_cuda = torch.cuda.is_available()\n",
    "# If we have a GPU available, we'll set our device to GPU. We'll use this device variable later in our code.\n",
    "if is_cuda:\n",
    "    device = torch.device(\"cuda\")\n",
    "else:\n",
    "    device = torch.device(\"cpu\")\n",
    "\n",
    "#load data from memory\n",
    "data=pd.read_pickle('/scratch/lnw8px/GAN/data.pkl')"
   ]
  },
  {
   "cell_type": "code",
   "execution_count": 2,
   "metadata": {},
   "outputs": [
    {
     "data": {
      "text/html": [
       "<div>\n",
       "<style scoped>\n",
       "    .dataframe tbody tr th:only-of-type {\n",
       "        vertical-align: middle;\n",
       "    }\n",
       "\n",
       "    .dataframe tbody tr th {\n",
       "        vertical-align: top;\n",
       "    }\n",
       "\n",
       "    .dataframe thead th {\n",
       "        text-align: right;\n",
       "    }\n",
       "</style>\n",
       "<table border=\"1\" class=\"dataframe\">\n",
       "  <thead>\n",
       "    <tr style=\"text-align: right;\">\n",
       "      <th></th>\n",
       "      <th>user</th>\n",
       "      <th>repitition</th>\n",
       "      <th>gesture</th>\n",
       "      <th>x</th>\n",
       "      <th>y</th>\n",
       "      <th>z</th>\n",
       "      <th>crop_x</th>\n",
       "      <th>crop_y</th>\n",
       "      <th>crop_z</th>\n",
       "    </tr>\n",
       "  </thead>\n",
       "  <tbody>\n",
       "    <tr>\n",
       "      <th>0</th>\n",
       "      <td>U07</td>\n",
       "      <td>5</td>\n",
       "      <td>16</td>\n",
       "      <td>[8.580819, 8.580819, 8.887277, 10.726024, 10.7...</td>\n",
       "      <td>[3.983952, 3.830723, 3.524265, 6.895301, 6.588...</td>\n",
       "      <td>[3.217807, 3.217807, 4.903325, 10.572795, 9.50...</td>\n",
       "      <td>[8.580819, 8.580819, 8.580819, 8.580819, 8.580...</td>\n",
       "      <td>[8.580819, 8.580819, 8.580819, 8.580819, 8.580...</td>\n",
       "      <td>[8.580819, 8.580819, 8.580819, 8.580819, 8.580...</td>\n",
       "    </tr>\n",
       "    <tr>\n",
       "      <th>1</th>\n",
       "      <td>U07</td>\n",
       "      <td>2</td>\n",
       "      <td>16</td>\n",
       "      <td>[9.193734, 9.040505, 9.040505, 10.572795, 12.2...</td>\n",
       "      <td>[1.37906, 1.225831, 1.225831, 3.830723, 1.0726...</td>\n",
       "      <td>[3.830723, 3.983952, 5.822699, 12.717999, 11.7...</td>\n",
       "      <td>[9.193734, 9.193734, 9.193734, 9.193734, 9.193...</td>\n",
       "      <td>[9.193734, 9.193734, 9.193734, 9.193734, 9.193...</td>\n",
       "      <td>[9.193734, 9.193734, 9.193734, 9.193734, 9.193...</td>\n",
       "    </tr>\n",
       "    <tr>\n",
       "      <th>2</th>\n",
       "      <td>U07</td>\n",
       "      <td>13</td>\n",
       "      <td>16</td>\n",
       "      <td>[8.274362, 8.121132, 9.040505, 11.032481, 11.3...</td>\n",
       "      <td>[4.443638, 4.29041, 5.209783, 7.967903, 7.5082...</td>\n",
       "      <td>[2.75812, 2.298434, 5.516241, 11.33894, 9.3469...</td>\n",
       "      <td>[8.274362, 8.274362, 8.274362, 8.274362, 8.274...</td>\n",
       "      <td>[8.274362, 8.274362, 8.274362, 8.274362, 8.274...</td>\n",
       "      <td>[8.274362, 8.274362, 8.274362, 8.274362, 8.274...</td>\n",
       "    </tr>\n",
       "    <tr>\n",
       "      <th>3</th>\n",
       "      <td>U07</td>\n",
       "      <td>14</td>\n",
       "      <td>16</td>\n",
       "      <td>[8.121132, 8.42759, 7.661446, 9.80665, 10.2663...</td>\n",
       "      <td>[4.443638, 4.137181, 5.66947, 7.967903, 7.9679...</td>\n",
       "      <td>[2.911349, 3.064578, 5.516241, 9.193734, 9.500...</td>\n",
       "      <td>[8.121132, 8.121132, 8.121132, 8.121132, 8.121...</td>\n",
       "      <td>[8.121132, 8.121132, 8.121132, 8.121132, 8.121...</td>\n",
       "      <td>[8.121132, 8.121132, 8.121132, 8.121132, 8.121...</td>\n",
       "    </tr>\n",
       "    <tr>\n",
       "      <th>4</th>\n",
       "      <td>U07</td>\n",
       "      <td>3</td>\n",
       "      <td>16</td>\n",
       "      <td>[9.040505, 9.346964, 8.121132, 11.33894, 13.02...</td>\n",
       "      <td>[0.306458, 0.153229, -1.991976, -0.612916, -1....</td>\n",
       "      <td>[4.137181, 4.443638, 6.588843, 12.871228, 12.4...</td>\n",
       "      <td>[9.040505, 9.040505, 9.040505, 9.040505, 9.040...</td>\n",
       "      <td>[9.040505, 9.040505, 9.040505, 9.040505, 9.040...</td>\n",
       "      <td>[9.040505, 9.040505, 9.040505, 9.040505, 9.040...</td>\n",
       "    </tr>\n",
       "  </tbody>\n",
       "</table>\n",
       "</div>"
      ],
      "text/plain": [
       "  user  repitition  gesture  \\\n",
       "0  U07           5       16   \n",
       "1  U07           2       16   \n",
       "2  U07          13       16   \n",
       "3  U07          14       16   \n",
       "4  U07           3       16   \n",
       "\n",
       "                                                   x  \\\n",
       "0  [8.580819, 8.580819, 8.887277, 10.726024, 10.7...   \n",
       "1  [9.193734, 9.040505, 9.040505, 10.572795, 12.2...   \n",
       "2  [8.274362, 8.121132, 9.040505, 11.032481, 11.3...   \n",
       "3  [8.121132, 8.42759, 7.661446, 9.80665, 10.2663...   \n",
       "4  [9.040505, 9.346964, 8.121132, 11.33894, 13.02...   \n",
       "\n",
       "                                                   y  \\\n",
       "0  [3.983952, 3.830723, 3.524265, 6.895301, 6.588...   \n",
       "1  [1.37906, 1.225831, 1.225831, 3.830723, 1.0726...   \n",
       "2  [4.443638, 4.29041, 5.209783, 7.967903, 7.5082...   \n",
       "3  [4.443638, 4.137181, 5.66947, 7.967903, 7.9679...   \n",
       "4  [0.306458, 0.153229, -1.991976, -0.612916, -1....   \n",
       "\n",
       "                                                   z  \\\n",
       "0  [3.217807, 3.217807, 4.903325, 10.572795, 9.50...   \n",
       "1  [3.830723, 3.983952, 5.822699, 12.717999, 11.7...   \n",
       "2  [2.75812, 2.298434, 5.516241, 11.33894, 9.3469...   \n",
       "3  [2.911349, 3.064578, 5.516241, 9.193734, 9.500...   \n",
       "4  [4.137181, 4.443638, 6.588843, 12.871228, 12.4...   \n",
       "\n",
       "                                              crop_x  \\\n",
       "0  [8.580819, 8.580819, 8.580819, 8.580819, 8.580...   \n",
       "1  [9.193734, 9.193734, 9.193734, 9.193734, 9.193...   \n",
       "2  [8.274362, 8.274362, 8.274362, 8.274362, 8.274...   \n",
       "3  [8.121132, 8.121132, 8.121132, 8.121132, 8.121...   \n",
       "4  [9.040505, 9.040505, 9.040505, 9.040505, 9.040...   \n",
       "\n",
       "                                              crop_y  \\\n",
       "0  [8.580819, 8.580819, 8.580819, 8.580819, 8.580...   \n",
       "1  [9.193734, 9.193734, 9.193734, 9.193734, 9.193...   \n",
       "2  [8.274362, 8.274362, 8.274362, 8.274362, 8.274...   \n",
       "3  [8.121132, 8.121132, 8.121132, 8.121132, 8.121...   \n",
       "4  [9.040505, 9.040505, 9.040505, 9.040505, 9.040...   \n",
       "\n",
       "                                              crop_z  \n",
       "0  [8.580819, 8.580819, 8.580819, 8.580819, 8.580...  \n",
       "1  [9.193734, 9.193734, 9.193734, 9.193734, 9.193...  \n",
       "2  [8.274362, 8.274362, 8.274362, 8.274362, 8.274...  \n",
       "3  [8.121132, 8.121132, 8.121132, 8.121132, 8.121...  \n",
       "4  [9.040505, 9.040505, 9.040505, 9.040505, 9.040...  "
      ]
     },
     "execution_count": 2,
     "metadata": {},
     "output_type": "execute_result"
    }
   ],
   "source": [
    "data.head()"
   ]
  },
  {
   "cell_type": "code",
   "execution_count": 3,
   "metadata": {},
   "outputs": [
    {
     "data": {
      "text/plain": [
       "'\\nDefine GAN models\\n'"
      ]
     },
     "execution_count": 3,
     "metadata": {},
     "output_type": "execute_result"
    }
   ],
   "source": [
    "'''\n",
    "Define GAN models\n",
    "'''"
   ]
  },
  {
   "cell_type": "code",
   "execution_count": 4,
   "metadata": {},
   "outputs": [],
   "source": [
    "def get_models(hidden1,hidden2):\n",
    "    class GeneratorModel(nn.Module):\n",
    "        def __init__(self):\n",
    "            super(GeneratorModel, self).__init__()\n",
    "            input_dim = 100 + 20\n",
    "            output_dim = 30*3\n",
    "            self.label_embedding = nn.Embedding(20, 20)\n",
    "\n",
    "            self.hidden_layer1 = nn.Sequential(\n",
    "                nn.Linear(input_dim, hidden1),\n",
    "                nn.LeakyReLU(0.2)\n",
    "            )\n",
    "\n",
    "            self.hidden_layer2 = nn.Sequential(\n",
    "                nn.Linear(hidden1, hidden2),\n",
    "                nn.LeakyReLU(0.2),\n",
    "                nn.Dropout(0.3)\n",
    "            )\n",
    "\n",
    "            self.hidden_layer3 = nn.Sequential(\n",
    "                nn.Linear(hidden2, output_dim),\n",
    "                nn.Tanh()\n",
    "            )\n",
    "\n",
    "        def forward(self, x, labels):\n",
    "            c = self.label_embedding(labels)\n",
    "            x = torch.cat([x,c], 1)\n",
    "            output = self.hidden_layer1(x)\n",
    "            output = self.hidden_layer2(output)\n",
    "            output = self.hidden_layer3(output)\n",
    "            output = output.view(-1,3,30)\n",
    "            return output.to(device)\n",
    "\n",
    "    class DiscriminatorModel(nn.Module):\n",
    "        def __init__(self):\n",
    "            super(DiscriminatorModel, self).__init__()\n",
    "            input_dim = 30*3 + 20\n",
    "            output_dim = 1\n",
    "            self.label_embedding = nn.Embedding(20, 20)\n",
    "\n",
    "            self.hidden_layer1 = nn.Sequential(\n",
    "                nn.Linear(input_dim, hidden1),\n",
    "                nn.LeakyReLU(0.2),\n",
    "                nn.Dropout(0.3)\n",
    "            )\n",
    "            \n",
    "            self.hidden_layer2 = nn.Sequential(\n",
    "                nn.Linear(hidden1, hidden2),\n",
    "                nn.LeakyReLU(0.2),\n",
    "                nn.Dropout(0.3)\n",
    "            )\n",
    "\n",
    "            self.hidden_layer3 = nn.Sequential(\n",
    "                nn.Linear(hidden2, output_dim),\n",
    "                nn.Sigmoid()\n",
    "            )\n",
    "\n",
    "        def forward(self, x, labels):\n",
    "            c = self.label_embedding(labels)\n",
    "            x = torch.cat([x, c], 1)\n",
    "            output = self.hidden_layer1(x)\n",
    "            output = self.hidden_layer2(output)\n",
    "            output = self.hidden_layer3(output)\n",
    "            return output.to(device)\n",
    "\n",
    "    discriminator = DiscriminatorModel()\n",
    "    generator = GeneratorModel()\n",
    "    discriminator.to(device)\n",
    "    generator.to(device)\n",
    "    \n",
    "    return generator,discriminator"
   ]
  },
  {
   "cell_type": "code",
   "execution_count": 6,
   "metadata": {},
   "outputs": [
    {
     "data": {
      "text/plain": [
       "GeneratorModel(\n",
       "  (label_embedding): Embedding(20, 20)\n",
       "  (hidden_layer1): Sequential(\n",
       "    (0): Linear(in_features=120, out_features=256, bias=True)\n",
       "    (1): LeakyReLU(negative_slope=0.2)\n",
       "  )\n",
       "  (hidden_layer2): Sequential(\n",
       "    (0): Linear(in_features=256, out_features=64, bias=True)\n",
       "    (1): LeakyReLU(negative_slope=0.2)\n",
       "    (2): Dropout(p=0.3, inplace=False)\n",
       "  )\n",
       "  (hidden_layer3): Sequential(\n",
       "    (0): Linear(in_features=64, out_features=90, bias=True)\n",
       "    (1): Tanh()\n",
       "  )\n",
       ")"
      ]
     },
     "execution_count": 6,
     "metadata": {},
     "output_type": "execute_result"
    }
   ],
   "source": [
    "generator,discriminator=get_models(hidden1=256,hidden2=64)\n",
    "generator.load_state_dict(torch.load('/scratch/lnw8px/GAN/models/generator.pt'))\n",
    "generator.to(device)"
   ]
  },
  {
   "cell_type": "code",
   "execution_count": 7,
   "metadata": {},
   "outputs": [
    {
     "ename": "NameError",
     "evalue": "name 'fake_labels' is not defined",
     "output_type": "error",
     "traceback": [
      "\u001b[0;31m---------------------------------------------------------------------------\u001b[0m",
      "\u001b[0;31mNameError\u001b[0m                                 Traceback (most recent call last)",
      "\u001b[0;32m<ipython-input-7-bb4d4750a229>\u001b[0m in \u001b[0;36m<module>\u001b[0;34m\u001b[0m\n\u001b[0;32m----> 1\u001b[0;31m \u001b[0mprint\u001b[0m\u001b[0;34m(\u001b[0m\u001b[0mfake_labels\u001b[0m\u001b[0;34m[\u001b[0m\u001b[0;36m15\u001b[0m\u001b[0;34m]\u001b[0m\u001b[0;34m)\u001b[0m\u001b[0;34m\u001b[0m\u001b[0;34m\u001b[0m\u001b[0m\n\u001b[0m\u001b[1;32m      2\u001b[0m \u001b[0mplt\u001b[0m\u001b[0;34m.\u001b[0m\u001b[0mplot\u001b[0m\u001b[0;34m(\u001b[0m\u001b[0mgenerated\u001b[0m\u001b[0;34m[\u001b[0m\u001b[0;36m15\u001b[0m\u001b[0;34m]\u001b[0m\u001b[0;34m)\u001b[0m\u001b[0;34m\u001b[0m\u001b[0;34m\u001b[0m\u001b[0m\n",
      "\u001b[0;31mNameError\u001b[0m: name 'fake_labels' is not defined"
     ]
    }
   ],
   "source": [
    "print(fake_labels[15])\n",
    "plt.plot(generated[15])"
   ]
  },
  {
   "cell_type": "code",
   "execution_count": 8,
   "metadata": {},
   "outputs": [
    {
     "data": {
      "text/plain": [
       "'\\nnormalize data\\nbased on max and min values found on the dataprep section\\n'"
      ]
     },
     "execution_count": 8,
     "metadata": {},
     "output_type": "execute_result"
    }
   ],
   "source": [
    "'''\n",
    "normalize data\n",
    "based on max and min values found on the dataprep section\n",
    "'''"
   ]
  },
  {
   "cell_type": "code",
   "execution_count": 9,
   "metadata": {},
   "outputs": [],
   "source": [
    "def get_norm_data(array,val):\n",
    "    return list(np.array(array)/val)\n",
    "\n",
    "data['x_norm']=data['x'].apply(get_norm_data,args=[40])\n",
    "data['y_norm']=data['y'].apply(get_norm_data,args=[80])\n",
    "data['z_norm']=data['z'].apply(get_norm_data,args=[80])"
   ]
  },
  {
   "cell_type": "code",
   "execution_count": 10,
   "metadata": {},
   "outputs": [
    {
     "data": {
      "text/plain": [
       "'\\ncreate onehot labels\\n'"
      ]
     },
     "execution_count": 10,
     "metadata": {},
     "output_type": "execute_result"
    }
   ],
   "source": [
    "'''\n",
    "create onehot labels\n",
    "'''"
   ]
  },
  {
   "cell_type": "code",
   "execution_count": 11,
   "metadata": {},
   "outputs": [],
   "source": [
    "num_classes=20\n",
    "def to_onehot(num):\n",
    "    onehot = np.zeros(num_classes,dtype=int)\n",
    "    onehot[num-1] = 1\n",
    "    return onehot\n",
    "\n",
    "data['label']=data['gesture'].apply(to_onehot)"
   ]
  },
  {
   "cell_type": "code",
   "execution_count": 12,
   "metadata": {},
   "outputs": [
    {
     "data": {
      "text/plain": [
       "'\\ncrop data\\n'"
      ]
     },
     "execution_count": 12,
     "metadata": {},
     "output_type": "execute_result"
    }
   ],
   "source": [
    "'''\n",
    "crop data\n",
    "'''"
   ]
  },
  {
   "cell_type": "code",
   "execution_count": 13,
   "metadata": {},
   "outputs": [],
   "source": [
    "def crop_array(array):\n",
    "    #crop_len/10 is the length in seconds\n",
    "    crop_len=30\n",
    "    #pad array if its shorter than crop_len\n",
    "    if(len(array)<crop_len):\n",
    "        a=np.pad(array,pad_width=[0,(crop_len-len(array))],mode='edge')\n",
    "    else:\n",
    "        max_start=len(array)-crop_len\n",
    "        start=randint(0,max_start)\n",
    "        a=array[start:start+crop_len]\n",
    "    return a \n",
    "\n",
    "crop_x=data['x_norm'].apply(crop_array)\n",
    "crop_y=data['y_norm'].apply(crop_array)\n",
    "crop_z=data['z_norm'].apply(crop_array)\n",
    "\n",
    "data['crop_x']=crop_x\n",
    "data['crop_y']=crop_y\n",
    "data['crop_z']=crop_z"
   ]
  },
  {
   "cell_type": "code",
   "execution_count": 14,
   "metadata": {},
   "outputs": [
    {
     "data": {
      "text/plain": [
       "'\\nselect only the required columns\\n'"
      ]
     },
     "execution_count": 14,
     "metadata": {},
     "output_type": "execute_result"
    }
   ],
   "source": [
    "'''\n",
    "select only the required columns\n",
    "'''"
   ]
  },
  {
   "cell_type": "code",
   "execution_count": 15,
   "metadata": {},
   "outputs": [
    {
     "data": {
      "text/html": [
       "<div>\n",
       "<style scoped>\n",
       "    .dataframe tbody tr th:only-of-type {\n",
       "        vertical-align: middle;\n",
       "    }\n",
       "\n",
       "    .dataframe tbody tr th {\n",
       "        vertical-align: top;\n",
       "    }\n",
       "\n",
       "    .dataframe thead th {\n",
       "        text-align: right;\n",
       "    }\n",
       "</style>\n",
       "<table border=\"1\" class=\"dataframe\">\n",
       "  <thead>\n",
       "    <tr style=\"text-align: right;\">\n",
       "      <th></th>\n",
       "      <th>user</th>\n",
       "      <th>gesture</th>\n",
       "      <th>crop_x</th>\n",
       "      <th>crop_y</th>\n",
       "      <th>crop_z</th>\n",
       "      <th>label</th>\n",
       "    </tr>\n",
       "  </thead>\n",
       "  <tbody>\n",
       "    <tr>\n",
       "      <th>0</th>\n",
       "      <td>U07</td>\n",
       "      <td>16</td>\n",
       "      <td>[0.214520475, 0.214520475, 0.22218192499999997...</td>\n",
       "      <td>[0.0497994, 0.0478840375, 0.044053312500000004...</td>\n",
       "      <td>[0.040222587500000004, 0.040222587500000004, 0...</td>\n",
       "      <td>[0, 0, 0, 0, 0, 0, 0, 0, 0, 0, 0, 0, 0, 0, 0, ...</td>\n",
       "    </tr>\n",
       "    <tr>\n",
       "      <th>1</th>\n",
       "      <td>U07</td>\n",
       "      <td>16</td>\n",
       "      <td>[0.22984334999999997, 0.226012625, 0.226012625...</td>\n",
       "      <td>[0.01723825, 0.015322887499999998, 0.015322887...</td>\n",
       "      <td>[0.0478840375, 0.0497994, 0.0727837375, 0.1589...</td>\n",
       "      <td>[0, 0, 0, 0, 0, 0, 0, 0, 0, 0, 0, 0, 0, 0, 0, ...</td>\n",
       "    </tr>\n",
       "    <tr>\n",
       "      <th>2</th>\n",
       "      <td>U07</td>\n",
       "      <td>16</td>\n",
       "      <td>[0.20685905, 0.2030283, 0.226012625, 0.2758120...</td>\n",
       "      <td>[0.055545475, 0.053630124999999994, 0.06512228...</td>\n",
       "      <td>[0.0344765, 0.028730424999999997, 0.0689530125...</td>\n",
       "      <td>[0, 0, 0, 0, 0, 0, 0, 0, 0, 0, 0, 0, 0, 0, 0, ...</td>\n",
       "    </tr>\n",
       "    <tr>\n",
       "      <th>3</th>\n",
       "      <td>U07</td>\n",
       "      <td>16</td>\n",
       "      <td>[0.2030283, 0.21068975, 0.19153615, 0.24516624...</td>\n",
       "      <td>[0.055545475, 0.0517147625, 0.070868375, 0.099...</td>\n",
       "      <td>[0.0363918625, 0.038307225, 0.0689530125, 0.11...</td>\n",
       "      <td>[0, 0, 0, 0, 0, 0, 0, 0, 0, 0, 0, 0, 0, 0, 0, ...</td>\n",
       "    </tr>\n",
       "    <tr>\n",
       "      <th>4</th>\n",
       "      <td>U07</td>\n",
       "      <td>16</td>\n",
       "      <td>[0.226012625, 0.2336741, 0.2030283, 0.2834735,...</td>\n",
       "      <td>[0.003830725, 0.0019153625, -0.0248997, -0.007...</td>\n",
       "      <td>[0.0517147625, 0.055545475, 0.0823605375, 0.16...</td>\n",
       "      <td>[0, 0, 0, 0, 0, 0, 0, 0, 0, 0, 0, 0, 0, 0, 0, ...</td>\n",
       "    </tr>\n",
       "  </tbody>\n",
       "</table>\n",
       "</div>"
      ],
      "text/plain": [
       "  user  gesture                                             crop_x  \\\n",
       "0  U07       16  [0.214520475, 0.214520475, 0.22218192499999997...   \n",
       "1  U07       16  [0.22984334999999997, 0.226012625, 0.226012625...   \n",
       "2  U07       16  [0.20685905, 0.2030283, 0.226012625, 0.2758120...   \n",
       "3  U07       16  [0.2030283, 0.21068975, 0.19153615, 0.24516624...   \n",
       "4  U07       16  [0.226012625, 0.2336741, 0.2030283, 0.2834735,...   \n",
       "\n",
       "                                              crop_y  \\\n",
       "0  [0.0497994, 0.0478840375, 0.044053312500000004...   \n",
       "1  [0.01723825, 0.015322887499999998, 0.015322887...   \n",
       "2  [0.055545475, 0.053630124999999994, 0.06512228...   \n",
       "3  [0.055545475, 0.0517147625, 0.070868375, 0.099...   \n",
       "4  [0.003830725, 0.0019153625, -0.0248997, -0.007...   \n",
       "\n",
       "                                              crop_z  \\\n",
       "0  [0.040222587500000004, 0.040222587500000004, 0...   \n",
       "1  [0.0478840375, 0.0497994, 0.0727837375, 0.1589...   \n",
       "2  [0.0344765, 0.028730424999999997, 0.0689530125...   \n",
       "3  [0.0363918625, 0.038307225, 0.0689530125, 0.11...   \n",
       "4  [0.0517147625, 0.055545475, 0.0823605375, 0.16...   \n",
       "\n",
       "                                               label  \n",
       "0  [0, 0, 0, 0, 0, 0, 0, 0, 0, 0, 0, 0, 0, 0, 0, ...  \n",
       "1  [0, 0, 0, 0, 0, 0, 0, 0, 0, 0, 0, 0, 0, 0, 0, ...  \n",
       "2  [0, 0, 0, 0, 0, 0, 0, 0, 0, 0, 0, 0, 0, 0, 0, ...  \n",
       "3  [0, 0, 0, 0, 0, 0, 0, 0, 0, 0, 0, 0, 0, 0, 0, ...  \n",
       "4  [0, 0, 0, 0, 0, 0, 0, 0, 0, 0, 0, 0, 0, 0, 0, ...  "
      ]
     },
     "execution_count": 15,
     "metadata": {},
     "output_type": "execute_result"
    }
   ],
   "source": [
    "data=data.drop(columns=['repitition','x','y','z','x_norm','y_norm','z_norm'])\n",
    "data.head()"
   ]
  },
  {
   "cell_type": "code",
   "execution_count": 16,
   "metadata": {},
   "outputs": [
    {
     "name": "stdout",
     "output_type": "stream",
     "text": [
      "0.8312668750000001 -0.9998186\n",
      "0.9768342999999999 -0.4558559875\n",
      "0.9768342999999999 -0.8121131874999999\n"
     ]
    }
   ],
   "source": [
    "def get_max(array):\n",
    "    return np.max(array)\n",
    "def get_min(array):\n",
    "    return np.min(array)\n",
    "print(np.max(data['crop_x'].apply(get_max).values),np.min(data['crop_x'].apply(get_min).values))\n",
    "print(np.max(data['crop_y'].apply(get_max).values),np.min(data['crop_y'].apply(get_min).values))\n",
    "print(np.max(data['crop_z'].apply(get_max).values),np.min(data['crop_z'].apply(get_min).values))"
   ]
  },
  {
   "cell_type": "code",
   "execution_count": 17,
   "metadata": {},
   "outputs": [
    {
     "data": {
      "text/plain": [
       "'\\nseperate train and test data.\\none user is test. All others is train\\n'"
      ]
     },
     "execution_count": 17,
     "metadata": {},
     "output_type": "execute_result"
    }
   ],
   "source": [
    "'''\n",
    "seperate train and test data.\n",
    "one user is test. All others is train\n",
    "'''"
   ]
  },
  {
   "cell_type": "code",
   "execution_count": 18,
   "metadata": {},
   "outputs": [],
   "source": [
    "users=data['user'].unique()\n",
    "test_user=users[0]\n",
    "train_users=users[users!=test_user]\n",
    "\n",
    "train_data=data[data['user'].isin(train_users)]\n",
    "test_data=data[data['user']==test_user]"
   ]
  },
  {
   "cell_type": "code",
   "execution_count": 19,
   "metadata": {},
   "outputs": [
    {
     "data": {
      "text/html": [
       "<div>\n",
       "<style scoped>\n",
       "    .dataframe tbody tr th:only-of-type {\n",
       "        vertical-align: middle;\n",
       "    }\n",
       "\n",
       "    .dataframe tbody tr th {\n",
       "        vertical-align: top;\n",
       "    }\n",
       "\n",
       "    .dataframe thead th {\n",
       "        text-align: right;\n",
       "    }\n",
       "</style>\n",
       "<table border=\"1\" class=\"dataframe\">\n",
       "  <thead>\n",
       "    <tr style=\"text-align: right;\">\n",
       "      <th></th>\n",
       "      <th>user</th>\n",
       "      <th>gesture</th>\n",
       "      <th>crop_x</th>\n",
       "      <th>crop_y</th>\n",
       "      <th>crop_z</th>\n",
       "      <th>label</th>\n",
       "    </tr>\n",
       "  </thead>\n",
       "  <tbody>\n",
       "    <tr>\n",
       "      <th>400</th>\n",
       "      <td>U03</td>\n",
       "      <td>11</td>\n",
       "      <td>[0.0, 0.0, 0.068953, 0.0842759, 0.0651223, 0.0...</td>\n",
       "      <td>[0.0057460875, 0.0057460875, 0.0497994, 0.0900...</td>\n",
       "      <td>[0.12258312499999999, 0.12641385, 0.1225831249...</td>\n",
       "      <td>[0, 0, 0, 0, 0, 0, 0, 0, 0, 0, 1, 0, 0, 0, 0, ...</td>\n",
       "    </tr>\n",
       "    <tr>\n",
       "      <th>401</th>\n",
       "      <td>U03</td>\n",
       "      <td>11</td>\n",
       "      <td>[0.003830725, 0.00766145, 0.02681505, 0.076614...</td>\n",
       "      <td>[0.01723825, 0.01723825, 0.026815062499999997,...</td>\n",
       "      <td>[0.1244984875, 0.1244984875, 0.12641385, 0.134...</td>\n",
       "      <td>[0, 0, 0, 0, 0, 0, 0, 0, 0, 0, 1, 0, 0, 0, 0, ...</td>\n",
       "    </tr>\n",
       "    <tr>\n",
       "      <th>402</th>\n",
       "      <td>U03</td>\n",
       "      <td>11</td>\n",
       "      <td>[0.030645774999999997, 0.030645774999999997, 0...</td>\n",
       "      <td>[-0.0057460875, -0.0057460875, 0.045968675, 0....</td>\n",
       "      <td>[0.1283292125, 0.1244984875, 0.122583124999999...</td>\n",
       "      <td>[0, 0, 0, 0, 0, 0, 0, 0, 0, 0, 1, 0, 0, 0, 0, ...</td>\n",
       "    </tr>\n",
       "    <tr>\n",
       "      <th>403</th>\n",
       "      <td>U03</td>\n",
       "      <td>11</td>\n",
       "      <td>[0.00766145, 0.02681505, 0.061291575, 0.076614...</td>\n",
       "      <td>[0.0095768125, 0.0057460875, 0.044053312500000...</td>\n",
       "      <td>[0.1206677625, 0.1283292125, 0.118752412499999...</td>\n",
       "      <td>[0, 0, 0, 0, 0, 0, 0, 0, 0, 0, 1, 0, 0, 0, 0, ...</td>\n",
       "    </tr>\n",
       "    <tr>\n",
       "      <th>404</th>\n",
       "      <td>U03</td>\n",
       "      <td>11</td>\n",
       "      <td>[0.022984325, 0.0497994, 0.0651223, 0.0842759,...</td>\n",
       "      <td>[0.00766145, 0.0095768125, 0.05363012499999999...</td>\n",
       "      <td>[0.1244984875, 0.1244984875, 0.1130063125, 0.1...</td>\n",
       "      <td>[0, 0, 0, 0, 0, 0, 0, 0, 0, 0, 1, 0, 0, 0, 0, ...</td>\n",
       "    </tr>\n",
       "  </tbody>\n",
       "</table>\n",
       "</div>"
      ],
      "text/plain": [
       "    user  gesture                                             crop_x  \\\n",
       "400  U03       11  [0.0, 0.0, 0.068953, 0.0842759, 0.0651223, 0.0...   \n",
       "401  U03       11  [0.003830725, 0.00766145, 0.02681505, 0.076614...   \n",
       "402  U03       11  [0.030645774999999997, 0.030645774999999997, 0...   \n",
       "403  U03       11  [0.00766145, 0.02681505, 0.061291575, 0.076614...   \n",
       "404  U03       11  [0.022984325, 0.0497994, 0.0651223, 0.0842759,...   \n",
       "\n",
       "                                                crop_y  \\\n",
       "400  [0.0057460875, 0.0057460875, 0.0497994, 0.0900...   \n",
       "401  [0.01723825, 0.01723825, 0.026815062499999997,...   \n",
       "402  [-0.0057460875, -0.0057460875, 0.045968675, 0....   \n",
       "403  [0.0095768125, 0.0057460875, 0.044053312500000...   \n",
       "404  [0.00766145, 0.0095768125, 0.05363012499999999...   \n",
       "\n",
       "                                                crop_z  \\\n",
       "400  [0.12258312499999999, 0.12641385, 0.1225831249...   \n",
       "401  [0.1244984875, 0.1244984875, 0.12641385, 0.134...   \n",
       "402  [0.1283292125, 0.1244984875, 0.122583124999999...   \n",
       "403  [0.1206677625, 0.1283292125, 0.118752412499999...   \n",
       "404  [0.1244984875, 0.1244984875, 0.1130063125, 0.1...   \n",
       "\n",
       "                                                 label  \n",
       "400  [0, 0, 0, 0, 0, 0, 0, 0, 0, 0, 1, 0, 0, 0, 0, ...  \n",
       "401  [0, 0, 0, 0, 0, 0, 0, 0, 0, 0, 1, 0, 0, 0, 0, ...  \n",
       "402  [0, 0, 0, 0, 0, 0, 0, 0, 0, 0, 1, 0, 0, 0, 0, ...  \n",
       "403  [0, 0, 0, 0, 0, 0, 0, 0, 0, 0, 1, 0, 0, 0, 0, ...  \n",
       "404  [0, 0, 0, 0, 0, 0, 0, 0, 0, 0, 1, 0, 0, 0, 0, ...  "
      ]
     },
     "execution_count": 19,
     "metadata": {},
     "output_type": "execute_result"
    }
   ],
   "source": [
    "train_data.head()"
   ]
  },
  {
   "cell_type": "code",
   "execution_count": 20,
   "metadata": {},
   "outputs": [],
   "source": [
    "def scale(row):\n",
    "    scaled=(row-np.min(row))/(np.max(row)-np.min(row))\n",
    "    return scaled\n",
    "\n",
    "def get_batch(data,batch_size):\n",
    "    feature_list=[]\n",
    "    label_list=[]\n",
    "    batch=data.sample(n=batch_size)\n",
    "    for i in range(len(batch)):\n",
    "        features=[]\n",
    "        features.append(batch.iloc[i]['crop_x'])\n",
    "        features.append(batch.iloc[i]['crop_y'])\n",
    "        features.append(batch.iloc[i]['crop_z'])\n",
    "        features=np.array(features)\n",
    "        feature_list.append(features)\n",
    "        label_list.append(batch.iloc[i]['gesture']-1)\n",
    "    features=np.array(feature_list)\n",
    "    features=torch.from_numpy(features)\n",
    "    features=features.to(device)\n",
    "    features=features.float()\n",
    "    labels=np.array(label_list)\n",
    "    labels=torch.from_numpy(labels)\n",
    "    labels=labels.to(device)\n",
    "    labels=labels.long()\n",
    "    return features,labels\n",
    "\n",
    "def get_generated_batch(batch_size):\n",
    "    noise = torch.randn(batch_size,100).to(device)\n",
    "    labels = torch.randint(0, 20, (batch_size,)).to(device)\n",
    "    generated=generator(noise,labels)\n",
    "    \n",
    "    return generated,labels\n",
    "\n",
    "def get_comb_batch(data,real_bs,gen_bs):\n",
    "    real_features,real_labels=get_batch(data=data,batch_size=real_bs)\n",
    "    gen_features,gen_labels=get_generated_batch(gen_bs)\n",
    "    features=torch.cat([real_features,gen_features],0)\n",
    "    ar=features.detach().cpu().numpy()\n",
    "    labels=torch.cat([real_labels,gen_labels],0)\n",
    "    return features,labels"
   ]
  },
  {
   "cell_type": "code",
   "execution_count": 21,
   "metadata": {},
   "outputs": [],
   "source": [
    "features,labels=get_comb_batch(train_data,10,12)"
   ]
  },
  {
   "cell_type": "code",
   "execution_count": 22,
   "metadata": {},
   "outputs": [
    {
     "data": {
      "text/plain": [
       "torch.Size([22, 3, 30])"
      ]
     },
     "execution_count": 22,
     "metadata": {},
     "output_type": "execute_result"
    }
   ],
   "source": [
    "features.shape"
   ]
  },
  {
   "cell_type": "code",
   "execution_count": 23,
   "metadata": {},
   "outputs": [
    {
     "data": {
      "text/plain": [
       "'\\nDefine the CNN\\n'"
      ]
     },
     "execution_count": 23,
     "metadata": {},
     "output_type": "execute_result"
    }
   ],
   "source": [
    "'''\n",
    "Define the CNN\n",
    "'''"
   ]
  },
  {
   "cell_type": "code",
   "execution_count": 24,
   "metadata": {},
   "outputs": [],
   "source": [
    "def get_model(num_filters1,num_filters2): \n",
    "    \n",
    "    features,labels=get_batch(train_data,batch_size=10)\n",
    "    conv1 = (nn.Conv1d(in_channels=3, out_channels=num_filters1, kernel_size=2, stride=1).float()).to(device)\n",
    "    pool1 = (nn.MaxPool1d(kernel_size=2).float()).to(device)\n",
    "    \n",
    "    conv2 = (nn.Conv1d(in_channels=num_filters1, out_channels=num_filters2, kernel_size=2, stride=1).float()).to(device)\n",
    "    pool2 = (nn.MaxPool1d(kernel_size=2).float()).to(device)\n",
    "\n",
    "\n",
    "    output = conv1(features)\n",
    "    output=pool1(output)\n",
    "    output = conv2(output)\n",
    "    output=pool2(output)\n",
    "    linear_in_features=output.shape[1]*output.shape[2]\n",
    "    print(linear_in_features)\n",
    "\n",
    "    class Net(nn.Module):\n",
    "        def __init__(self):\n",
    "            super(Net, self).__init__()\n",
    "            self.conv1 = nn.Conv1d(in_channels=3, out_channels=num_filters1, kernel_size=2, stride=1)\n",
    "            self.pool = nn.MaxPool1d(kernel_size=2)\n",
    "            self.bn1 = nn.BatchNorm1d(100)\n",
    "            self.conv2 = nn.Conv1d(in_channels=num_filters1, out_channels=num_filters2, kernel_size=2, stride=1)\n",
    "            self.bn2 = nn.BatchNorm1d(48)\n",
    "            self.fc1 = nn.Linear(in_features=linear_in_features,out_features=20)\n",
    "            self.softmax = nn.Softmax(dim=1)\n",
    "            self.relu = nn.ReLU()\n",
    "            self.drop = nn.Dropout(0.5)\n",
    "\n",
    "        def forward(self, x):\n",
    "            x = self.conv1(x)\n",
    "            x = self.relu(x)\n",
    "            x = self.pool(x)\n",
    "            x = self.bn1(x)\n",
    "            x = self.conv2(x)\n",
    "            x = self.relu(x)\n",
    "            x = self.pool(x)\n",
    "            x = self.bn2(x)\n",
    "            x = self.drop(x)\n",
    "            x = x.view(-1,linear_in_features)\n",
    "            x = self.fc1(x)\n",
    "            #x = self.softmax(x)\n",
    "            return x\n",
    "    model=Net()\n",
    "    model.to(device)\n",
    "    model.train()\n",
    "    return model\n",
    "   "
   ]
  },
  {
   "cell_type": "code",
   "execution_count": 25,
   "metadata": {},
   "outputs": [
    {
     "name": "stdout",
     "output_type": "stream",
     "text": [
      "288\n"
     ]
    },
    {
     "data": {
      "text/plain": [
       "Net(\n",
       "  (conv1): Conv1d(3, 100, kernel_size=(2,), stride=(1,))\n",
       "  (pool): MaxPool1d(kernel_size=2, stride=2, padding=0, dilation=1, ceil_mode=False)\n",
       "  (bn1): BatchNorm1d(100, eps=1e-05, momentum=0.1, affine=True, track_running_stats=True)\n",
       "  (conv2): Conv1d(100, 48, kernel_size=(2,), stride=(1,))\n",
       "  (bn2): BatchNorm1d(48, eps=1e-05, momentum=0.1, affine=True, track_running_stats=True)\n",
       "  (fc1): Linear(in_features=288, out_features=20, bias=True)\n",
       "  (softmax): Softmax(dim=1)\n",
       "  (relu): ReLU()\n",
       "  (drop): Dropout(p=0.5, inplace=False)\n",
       ")"
      ]
     },
     "execution_count": 25,
     "metadata": {},
     "output_type": "execute_result"
    }
   ],
   "source": [
    "model=get_model(num_filters1=100,num_filters2=48)\n",
    "model"
   ]
  },
  {
   "cell_type": "code",
   "execution_count": 29,
   "metadata": {},
   "outputs": [],
   "source": [
    "def get_test_acc_loss():\n",
    "    features,labels=get_batch(test_data,batch_size=len(test_data))\n",
    "    pred=model(features)\n",
    "    predmax=torch.max(pred,1)[1]\n",
    "    iscorrect=(predmax==labels)\n",
    "    num_correct=torch.sum(iscorrect).item()\n",
    "    num_total=iscorrect.shape[0]\n",
    "    acc=num_correct/num_total\n",
    "    loss=criterion(pred,labels).item()\n",
    "    return acc,loss"
   ]
  },
  {
   "cell_type": "code",
   "execution_count": 68,
   "metadata": {},
   "outputs": [
    {
     "name": "stdout",
     "output_type": "stream",
     "text": [
      "288\n",
      "lr=0.0005\n",
      "saving model\n",
      "train loss=0.256713866131718 test loss=0.5688561797142029\n",
      "test accuracy=0.7875\n",
      "lr=0.00045000000000000004\n",
      "saving model\n",
      "train loss=0.062154529231425046 test loss=0.5730488300323486\n",
      "test accuracy=0.81\n",
      "lr=0.00040500000000000003\n",
      "saving model\n",
      "train loss=0.04514386713431618 test loss=0.45203810930252075\n",
      "test accuracy=0.8575\n",
      "lr=0.0003645\n",
      "train loss=0.03846713950219216 test loss=0.4870862066745758\n",
      "test accuracy=0.84\n",
      "lr=0.00032805000000000003\n",
      "train loss=0.03175386962337437 test loss=0.513716459274292\n",
      "test accuracy=0.8125\n",
      "lr=0.000295245\n",
      "train loss=0.02912063195763116 test loss=0.5126988291740417\n",
      "test accuracy=0.8175\n",
      "lr=0.0002657205\n",
      "train loss=0.0265193657916247 test loss=0.5576711893081665\n",
      "test accuracy=0.8225\n",
      "lr=0.00023914845\n",
      "train loss=0.024610176763485207 test loss=0.4715043008327484\n",
      "test accuracy=0.84\n",
      "lr=0.000215233605\n",
      "train loss=0.022629656030896755 test loss=0.5573824644088745\n",
      "test accuracy=0.815\n",
      "lr=0.0001937102445\n",
      "train loss=0.02068152740697031 test loss=0.4914676547050476\n",
      "test accuracy=0.835\n",
      "lr=0.00017433922005\n",
      "train loss=0.020663628452014856 test loss=0.539156973361969\n",
      "test accuracy=0.8325\n",
      "lr=0.00015690529804500002\n",
      "train loss=0.018158273905337963 test loss=0.4916945993900299\n",
      "test accuracy=0.8375\n",
      "lr=0.00014121476824050002\n",
      "train loss=0.01667992977646935 test loss=0.5594611763954163\n",
      "test accuracy=0.8175\n",
      "lr=0.00012709329141645002\n",
      "train loss=0.016185532164276796 test loss=0.49942857027053833\n",
      "test accuracy=0.8325\n",
      "lr=0.00011438396227480502\n",
      "train loss=0.015578131588330732 test loss=0.4485832154750824\n",
      "test accuracy=0.8525\n",
      "lr=0.00010294556604732453\n",
      "train loss=0.015738478408011167 test loss=0.4920022487640381\n",
      "test accuracy=0.84\n",
      "lr=9.265100944259208e-05\n",
      "train loss=0.014660668029194754 test loss=0.4973423480987549\n",
      "test accuracy=0.83\n",
      "lr=8.338590849833288e-05\n",
      "train loss=0.014794653009130678 test loss=0.5238285064697266\n",
      "test accuracy=0.8325\n",
      "lr=7.50473176484996e-05\n",
      "train loss=0.014445443162371174 test loss=0.4681137800216675\n",
      "test accuracy=0.8425\n",
      "lr=6.754258588364964e-05\n",
      "train loss=0.013523766279001061 test loss=0.4835881292819977\n",
      "test accuracy=0.84\n"
     ]
    }
   ],
   "source": [
    "out_file='/home/lnw8px/models/GAN/CNN_results.txt'\n",
    "epochs=20\n",
    "lr=0.0005\n",
    "batch_size=32\n",
    "real_ratio=0.5\n",
    "real_bs=int(batch_size*real_ratio)\n",
    "gen_bs=batch_size-real_bs\n",
    "max_test_acc=0\n",
    "model=get_model(num_filters1=100,num_filters2=48)\n",
    "criterion = nn.CrossEntropyLoss()\n",
    "\n",
    "for i in range(epochs):\n",
    "    model.train()\n",
    "    loss_list=[]\n",
    "    print('lr='+str(lr))\n",
    "    f = open(out_file, \"a\")\n",
    "    f.write('lr='+str(lr)+'\\n')\n",
    "    f.close()\n",
    "    optimizer = torch.optim.Adam(model.parameters(), lr=lr)\n",
    "    for j in range(len(train_data)):\n",
    "        features,labels=get_comb_batch(train_data,real_bs=real_bs,gen_bs=gen_bs)\n",
    "\n",
    "        model.zero_grad()\n",
    "        optimizer.zero_grad()\n",
    "\n",
    "        pred=model(features)\n",
    "        loss = criterion(pred, labels)\n",
    "        loss.backward()\n",
    "        optimizer.step()\n",
    "\n",
    "        loss_list.append(loss.item())\n",
    "    loss_list=np.array(loss_list)\n",
    "    model.eval()\n",
    "    test_acc,test_loss=get_test_acc_loss()\n",
    "    if(test_acc>max_test_acc):\n",
    "        print('saving model')\n",
    "        torch.save(model.state_dict(),'/scratch/lnw8px/GAN/models/CNN.pt')\n",
    "        max_test_acc=test_acc\n",
    "    print('train loss='+str(np.mean(loss_list))+' test loss='+str(test_loss))\n",
    "    print('test accuracy='+str(test_acc))\n",
    "    f = open(out_file, \"a\")\n",
    "    f.write('train loss='+str(np.mean(loss_list))+' test loss='+str(test_loss)+' test accuracy='+str(test_acc)+'\\n')\n",
    "    f.close()\n",
    "    lr=lr*0.9"
   ]
  },
  {
   "cell_type": "code",
   "execution_count": 45,
   "metadata": {},
   "outputs": [],
   "source": [
    "#model.eval()\n",
    "#torch.save(model.state_dict(),'/scratch/lnw8px/GAN/models/CNN_GAN_0.7.pt')"
   ]
  },
  {
   "cell_type": "code",
   "execution_count": 80,
   "metadata": {},
   "outputs": [
    {
     "name": "stdout",
     "output_type": "stream",
     "text": [
      "288\n"
     ]
    },
    {
     "data": {
      "text/plain": [
       "<All keys matched successfully>"
      ]
     },
     "execution_count": 80,
     "metadata": {},
     "output_type": "execute_result"
    }
   ],
   "source": [
    "model=get_model(num_filters1=100,num_filters2=48)\n",
    "model.load_state_dict(torch.load('/scratch/lnw8px/GAN/models/CNN.pt'))"
   ]
  },
  {
   "cell_type": "code",
   "execution_count": 83,
   "metadata": {},
   "outputs": [
    {
     "data": {
      "text/plain": [
       "(0.8575, 0.4520381987094879)"
      ]
     },
     "execution_count": 83,
     "metadata": {},
     "output_type": "execute_result"
    }
   ],
   "source": [
    "model.eval()\n",
    "get_test_acc_loss()"
   ]
  },
  {
   "cell_type": "code",
   "execution_count": 76,
   "metadata": {},
   "outputs": [],
   "source": [
    "def get_per_class_acc(test_data):\n",
    "    features,labels=get_batch(test_data,batch_size=len(test_data))\n",
    "    pred=model(features)\n",
    "    predmax=torch.max(pred,1)[1]\n",
    "    iscorrect=(predmax==labels)\n",
    "    iscorrect=iscorrect.cpu().numpy()\n",
    "    predmax=predmax.cpu().numpy()\n",
    "    ones=np.ones(len(iscorrect))\n",
    "    res=np.bincount(predmax,iscorrect)\n",
    "    counts=np.bincount(predmax,ones)\n",
    "    perclass_acc=res/counts\n",
    "    return perclass_acc"
   ]
  },
  {
   "cell_type": "code",
   "execution_count": 54,
   "metadata": {},
   "outputs": [
    {
     "data": {
      "text/plain": [
       "array([0.95238095, 0.90909091, 0.71428571, 0.95238095, 1.        ,\n",
       "       1.        , 1.        , 0.81818182, 0.63157895, 0.90909091,\n",
       "       1.        , 0.95      , 0.95238095, 1.        , 0.74074074,\n",
       "       0.94117647, 1.        , 0.86363636, 0.86956522, 1.        ])"
      ]
     },
     "execution_count": 54,
     "metadata": {},
     "output_type": "execute_result"
    }
   ],
   "source": [
    "get_per_class_acc(test_data)"
   ]
  },
  {
   "cell_type": "code",
   "execution_count": 204,
   "metadata": {},
   "outputs": [
    {
     "data": {
      "text/plain": [
       "(20,)"
      ]
     },
     "execution_count": 204,
     "metadata": {},
     "output_type": "execute_result"
    }
   ],
   "source": []
  }
 ],
 "metadata": {
  "kernelspec": {
   "display_name": "PyTorch 1.5.1 Py3.7",
   "language": "python",
   "name": "pytorch-1.5.1"
  },
  "language_info": {
   "codemirror_mode": {
    "name": "ipython",
    "version": 3
   },
   "file_extension": ".py",
   "mimetype": "text/x-python",
   "name": "python",
   "nbconvert_exporter": "python",
   "pygments_lexer": "ipython3",
   "version": "3.7.7"
  }
 },
 "nbformat": 4,
 "nbformat_minor": 4
}
